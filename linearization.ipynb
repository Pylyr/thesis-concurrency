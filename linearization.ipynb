{
 "cells": [
  {
   "cell_type": "code",
   "execution_count": 1,
   "metadata": {},
   "outputs": [
    {
     "data": {
      "application/javascript": "\n            setTimeout(function() {\n                var nbb_cell_id = 1;\n                var nbb_unformatted_code = \"from classes import *\\nfrom utils import *\\nimport math\\n\\nfrom typing import List, Set, Tuple, Any, Dict, DefaultDict, Optional\\nfrom collections import defaultdict\\nimport linearize_io_helper as hp\\n\\n%load_ext nb_black\\n%load_ext autoreload\\n%autoreload 2\";\n                var nbb_formatted_code = \"from classes import *\\nfrom utils import *\\nimport math\\n\\nfrom typing import List, Set, Tuple, Any, Dict, DefaultDict, Optional\\nfrom collections import defaultdict\\nimport linearize_io_helper as hp\\n\\n%load_ext nb_black\\n%load_ext autoreload\\n%autoreload 2\";\n                var nbb_cells = Jupyter.notebook.get_cells();\n                for (var i = 0; i < nbb_cells.length; ++i) {\n                    if (nbb_cells[i].input_prompt_number == nbb_cell_id) {\n                        if (nbb_cells[i].get_text() == nbb_unformatted_code) {\n                             nbb_cells[i].set_text(nbb_formatted_code);\n                        }\n                        break;\n                    }\n                }\n            }, 500);\n            ",
      "text/plain": [
       "<IPython.core.display.Javascript object>"
      ]
     },
     "metadata": {},
     "output_type": "display_data"
    }
   ],
   "source": [
    "from classes import *\n",
    "from utils import *\n",
    "import math\n",
    "\n",
    "from typing import List, Set, Tuple, Any, Dict, DefaultDict, Optional\n",
    "from collections import defaultdict\n",
    "import linearize_io_helper as hp\n",
    "\n",
    "%load_ext nb_black\n",
    "%load_ext autoreload\n",
    "%autoreload 2"
   ]
  },
  {
   "cell_type": "code",
   "execution_count": 2,
   "metadata": {},
   "outputs": [
    {
     "data": {
      "application/javascript": "\n            setTimeout(function() {\n                var nbb_cell_id = 2;\n                var nbb_unformatted_code = \"# make the font of the plots bigger\\nplt.rcParams.update({'font.size': 14})\";\n                var nbb_formatted_code = \"# make the font of the plots bigger\\nplt.rcParams.update({\\\"font.size\\\": 14})\";\n                var nbb_cells = Jupyter.notebook.get_cells();\n                for (var i = 0; i < nbb_cells.length; ++i) {\n                    if (nbb_cells[i].input_prompt_number == nbb_cell_id) {\n                        if (nbb_cells[i].get_text() == nbb_unformatted_code) {\n                             nbb_cells[i].set_text(nbb_formatted_code);\n                        }\n                        break;\n                    }\n                }\n            }, 500);\n            ",
      "text/plain": [
       "<IPython.core.display.Javascript object>"
      ]
     },
     "metadata": {},
     "output_type": "display_data"
    }
   ],
   "source": [
    "# make the font of the plots bigger\n",
    "plt.rcParams.update({'font.size': 14})"
   ]
  },
  {
   "cell_type": "code",
   "execution_count": 102,
   "metadata": {},
   "outputs": [
    {
     "data": {
      "application/javascript": "\n            setTimeout(function() {\n                var nbb_cell_id = 102;\n                var nbb_unformatted_code = \"def linearize_io(spec: List[Call], verbose=False):\\n    sort_by_var: DefaultDict[int, List[Call]] = defaultdict(list)\\n    false_cases: List[CallCAS] = []\\n    true_cases: List[CallCAS] = []\\n\\n    hp.populate_call_bins(spec, sort_by_var, true_cases, false_cases)\\n\\n    writes = hp.basic_io_checks(sort_by_var)\\n    if writes is None:\\n        if verbose:\\n            print(\\\"basic_io_checks failed\\\")\\n        return False\\n\\n    if hp.isAny_cas_intersect_write(false_cases, writes):\\n        raise Exception(\\\"Assumption Violation: CAS intersects Write\\\")\\n\\n    if not hp.basic_true_cas_checks(true_cases):\\n        if verbose:\\n            print(\\\"basic_true_cas_checks failed\\\")\\n        return False\\n\\n    hp.topological_true_cas_sort(true_cases)\\n\\n    true_cas_var_groups = hp.make_true_cas_var_groups(true_cases)\\n\\n    if not hp.intra_group_check(sort_by_var, true_cas_var_groups):\\n        if verbose:\\n            print(\\\"intra_group_check failed\\\")\\n        return False\\n\\n    if not hp.inter_group_check(sort_by_var, true_cas_var_groups):\\n        if verbose:\\n            print(\\\"inter_group_check failed\\\")\\n        return False\\n\\n    intervals: Dict[int, I] = hp.make_intervals(sort_by_var)\\n\\n    if not hp.io_check(intervals):\\n        if verbose:\\n            print(\\\"io_check failed\\\")\\n        return False\\n\\n    blocks = hp.make_blocks(sort_by_var, intervals, true_cas_var_groups)\\n\\n    false_cas_var_resolver = hp.get_false_cas_resolvers(sort_by_var, false_cases, blocks, writes, intervals)\\n\\n    # print(blocks)\\n    # print({f\\\"{k} ({round(k.start, 2)} - {round(k.end,2)})\\\": v for k, v in false_cas_var_resolver.items()})\\n\\n    if not hp.false_cas_group_check(false_cas_var_resolver, writes):\\n        if verbose:\\n            print(\\\"false_cas_group_check failed\\\")\\n        return False\\n\\n    if verbose:\\n        print(blocks)\\n        print({f\\\"{k} ({round(k.start, 2)} - {round(k.end,2)})\\\": v for k, v in false_cas_var_resolver.items()})\\n\\n    for false_cas in false_cases:\\n        if len(false_cas_var_resolver[false_cas]) == 0:\\n            if verbose:\\n                print(\\\"false_cas_var_resolver[false_cas] == 0\\\")\\n            return False\\n\\n    # it is linearizable\\n    for false_cas in false_cases:\\n        v = false_cas_var_resolver[false_cas].pop()\\n        sort_by_var[v].append(false_cas)\\n\\n    hp.set_order(sort_by_var, true_cas_var_groups)\\n\\n    return True\";\n                var nbb_formatted_code = \"def linearize_io(spec: List[Call], verbose=False):\\n    sort_by_var: DefaultDict[int, List[Call]] = defaultdict(list)\\n    false_cases: List[CallCAS] = []\\n    true_cases: List[CallCAS] = []\\n\\n    hp.populate_call_bins(spec, sort_by_var, true_cases, false_cases)\\n\\n    writes = hp.basic_io_checks(sort_by_var)\\n    if writes is None:\\n        if verbose:\\n            print(\\\"basic_io_checks failed\\\")\\n        return False\\n\\n    if hp.isAny_cas_intersect_write(false_cases, writes):\\n        raise Exception(\\\"Assumption Violation: CAS intersects Write\\\")\\n\\n    if not hp.basic_true_cas_checks(true_cases):\\n        if verbose:\\n            print(\\\"basic_true_cas_checks failed\\\")\\n        return False\\n\\n    hp.topological_true_cas_sort(true_cases)\\n\\n    true_cas_var_groups = hp.make_true_cas_var_groups(true_cases)\\n\\n    if not hp.intra_group_check(sort_by_var, true_cas_var_groups):\\n        if verbose:\\n            print(\\\"intra_group_check failed\\\")\\n        return False\\n\\n    if not hp.inter_group_check(sort_by_var, true_cas_var_groups):\\n        if verbose:\\n            print(\\\"inter_group_check failed\\\")\\n        return False\\n\\n    intervals: Dict[int, I] = hp.make_intervals(sort_by_var)\\n\\n    if not hp.io_check(intervals):\\n        if verbose:\\n            print(\\\"io_check failed\\\")\\n        return False\\n\\n    blocks = hp.make_blocks(sort_by_var, intervals, true_cas_var_groups)\\n\\n    false_cas_var_resolver = hp.get_false_cas_resolvers(\\n        sort_by_var, false_cases, blocks, writes, intervals\\n    )\\n\\n    # print(blocks)\\n    # print({f\\\"{k} ({round(k.start, 2)} - {round(k.end,2)})\\\": v for k, v in false_cas_var_resolver.items()})\\n\\n    if not hp.false_cas_group_check(false_cas_var_resolver, writes):\\n        if verbose:\\n            print(\\\"false_cas_group_check failed\\\")\\n        return False\\n\\n    if verbose:\\n        print(blocks)\\n        print(\\n            {\\n                f\\\"{k} ({round(k.start, 2)} - {round(k.end,2)})\\\": v\\n                for k, v in false_cas_var_resolver.items()\\n            }\\n        )\\n\\n    for false_cas in false_cases:\\n        if len(false_cas_var_resolver[false_cas]) == 0:\\n            if verbose:\\n                print(\\\"false_cas_var_resolver[false_cas] == 0\\\")\\n            return False\\n\\n    # it is linearizable\\n    for false_cas in false_cases:\\n        v = false_cas_var_resolver[false_cas].pop()\\n        sort_by_var[v].append(false_cas)\\n\\n    hp.set_order(sort_by_var, true_cas_var_groups)\\n\\n    return True\";\n                var nbb_cells = Jupyter.notebook.get_cells();\n                for (var i = 0; i < nbb_cells.length; ++i) {\n                    if (nbb_cells[i].input_prompt_number == nbb_cell_id) {\n                        if (nbb_cells[i].get_text() == nbb_unformatted_code) {\n                             nbb_cells[i].set_text(nbb_formatted_code);\n                        }\n                        break;\n                    }\n                }\n            }, 500);\n            ",
      "text/plain": [
       "<IPython.core.display.Javascript object>"
      ]
     },
     "metadata": {},
     "output_type": "display_data"
    }
   ],
   "source": [
    "def linearize_io(spec: List[Call], verbose=False):\n",
    "    sort_by_var: DefaultDict[int, List[Call]] = defaultdict(list)\n",
    "    false_cases: List[CallCAS] = []\n",
    "    true_cases: List[CallCAS] = []\n",
    "\n",
    "    hp.populate_call_bins(spec, sort_by_var, true_cases, false_cases)\n",
    "\n",
    "    writes = hp.basic_io_checks(sort_by_var)\n",
    "    if writes is None:\n",
    "        if verbose:\n",
    "            print(\"basic_io_checks failed\")\n",
    "        return False\n",
    "\n",
    "    if hp.isAny_cas_intersect_write(false_cases, writes):\n",
    "        raise Exception(\"Assumption Violation: CAS intersects Write\")\n",
    "\n",
    "    if not hp.basic_true_cas_checks(true_cases):\n",
    "        if verbose:\n",
    "            print(\"basic_true_cas_checks failed\")\n",
    "        return False\n",
    "\n",
    "    hp.topological_true_cas_sort(true_cases)\n",
    "\n",
    "    true_cas_var_groups = hp.make_true_cas_var_groups(true_cases)\n",
    "\n",
    "    if not hp.intra_group_check(sort_by_var, true_cas_var_groups):\n",
    "        if verbose:\n",
    "            print(\"intra_group_check failed\")\n",
    "        return False\n",
    "\n",
    "    if not hp.inter_group_check(sort_by_var, true_cas_var_groups):\n",
    "        if verbose:\n",
    "            print(\"inter_group_check failed\")\n",
    "        return False\n",
    "\n",
    "    intervals: Dict[int, I] = hp.make_intervals(sort_by_var)\n",
    "\n",
    "    if not hp.io_check(intervals):\n",
    "        if verbose:\n",
    "            print(\"io_check failed\")\n",
    "        return False\n",
    "\n",
    "    blocks = hp.make_blocks(sort_by_var, intervals, true_cas_var_groups)\n",
    "\n",
    "    false_cas_var_resolver = hp.get_false_cas_resolvers(sort_by_var, false_cases, blocks, writes, intervals)\n",
    "\n",
    "    if not hp.false_cas_group_check(false_cas_var_resolver, writes):\n",
    "        if verbose:\n",
    "            print(\"false_cas_group_check failed\")\n",
    "        return False\n",
    "\n",
    "    if verbose:\n",
    "        print(blocks)\n",
    "        print({f\"{k} ({round(k.start, 2)} - {round(k.end,2)})\": v for k, v in false_cas_var_resolver.items()})\n",
    "\n",
    "    for false_cas in false_cases:\n",
    "        if len(false_cas_var_resolver[false_cas]) == 0:\n",
    "            if verbose:\n",
    "                print(\"false_cas_var_resolver[false_cas] == 0\")\n",
    "            return False\n",
    "\n",
    "    # it is linearizable\n",
    "    for false_cas in false_cases:\n",
    "        v = false_cas_var_resolver[false_cas].pop()\n",
    "        sort_by_var[v].append(false_cas)\n",
    "\n",
    "    hp.set_order(sort_by_var, true_cas_var_groups)\n",
    "\n",
    "    return True\n"
   ]
  },
  {
   "cell_type": "code",
   "execution_count": 4,
   "metadata": {},
   "outputs": [
    {
     "data": {
      "application/javascript": "\n            setTimeout(function() {\n                var nbb_cell_id = 4;\n                var nbb_unformatted_code = \"# generate_tests(filename=\\\"megatests.pkl\\\",\\n#                success_percentage=0.1,\\n#                total=20_000,\\n#                no_threads=7,\\n#                no_operations=20,\\n#                no_variables=5,\\n#                min_ops=7,\\n#                min_cas=1,\\n#                min_read=1,\\n#                min_offset=1,\\n#                max_offset=5,\\n#                min_duration=1,\\n#                max_duration=5)\";\n                var nbb_formatted_code = \"# generate_tests(filename=\\\"megatests.pkl\\\",\\n#                success_percentage=0.1,\\n#                total=20_000,\\n#                no_threads=7,\\n#                no_operations=20,\\n#                no_variables=5,\\n#                min_ops=7,\\n#                min_cas=1,\\n#                min_read=1,\\n#                min_offset=1,\\n#                max_offset=5,\\n#                min_duration=1,\\n#                max_duration=5)\";\n                var nbb_cells = Jupyter.notebook.get_cells();\n                for (var i = 0; i < nbb_cells.length; ++i) {\n                    if (nbb_cells[i].input_prompt_number == nbb_cell_id) {\n                        if (nbb_cells[i].get_text() == nbb_unformatted_code) {\n                             nbb_cells[i].set_text(nbb_formatted_code);\n                        }\n                        break;\n                    }\n                }\n            }, 500);\n            ",
      "text/plain": [
       "<IPython.core.display.Javascript object>"
      ]
     },
     "metadata": {},
     "output_type": "display_data"
    }
   ],
   "source": [
    "# generate_tests(filename=\"megatests.pkl\",\n",
    "#                success_percentage=0.1,\n",
    "#                total=20_000,\n",
    "#                no_threads=7,\n",
    "#                no_operations=20,\n",
    "#                no_variables=5,\n",
    "#                min_ops=7,\n",
    "#                min_cas=1,\n",
    "#                min_read=1,\n",
    "#                min_offset=1,\n",
    "#                max_offset=5,\n",
    "#                min_duration=1,\n",
    "#                max_duration=5)\n"
   ]
  },
  {
   "cell_type": "code",
   "execution_count": 8,
   "metadata": {},
   "outputs": [
    {
     "name": "stderr",
     "output_type": "stream",
     "text": [
      "747188it [00:30, 24534.32it/s]\n"
     ]
    },
    {
     "data": {
      "application/javascript": "\n            setTimeout(function() {\n                var nbb_cell_id = 8;\n                var nbb_unformatted_code = \"test = load_test(\\\"testcas_filtered.pkl\\\")\";\n                var nbb_formatted_code = \"test = load_test(\\\"testcas_filtered.pkl\\\")\";\n                var nbb_cells = Jupyter.notebook.get_cells();\n                for (var i = 0; i < nbb_cells.length; ++i) {\n                    if (nbb_cells[i].input_prompt_number == nbb_cell_id) {\n                        if (nbb_cells[i].get_text() == nbb_unformatted_code) {\n                             nbb_cells[i].set_text(nbb_formatted_code);\n                        }\n                        break;\n                    }\n                }\n            }, 500);\n            ",
      "text/plain": [
       "<IPython.core.display.Javascript object>"
      ]
     },
     "metadata": {},
     "output_type": "display_data"
    }
   ],
   "source": [
    "test = load_test(\"testcas_filtered.pkl\")"
   ]
  },
  {
   "cell_type": "code",
   "execution_count": 9,
   "metadata": {},
   "outputs": [
    {
     "data": {
      "text/plain": [
       "747188"
      ]
     },
     "execution_count": 9,
     "metadata": {},
     "output_type": "execute_result"
    },
    {
     "data": {
      "application/javascript": "\n            setTimeout(function() {\n                var nbb_cell_id = 9;\n                var nbb_unformatted_code = \"len(test)\";\n                var nbb_formatted_code = \"len(test)\";\n                var nbb_cells = Jupyter.notebook.get_cells();\n                for (var i = 0; i < nbb_cells.length; ++i) {\n                    if (nbb_cells[i].input_prompt_number == nbb_cell_id) {\n                        if (nbb_cells[i].get_text() == nbb_unformatted_code) {\n                             nbb_cells[i].set_text(nbb_formatted_code);\n                        }\n                        break;\n                    }\n                }\n            }, 500);\n            ",
      "text/plain": [
       "<IPython.core.display.Javascript object>"
      ]
     },
     "metadata": {},
     "output_type": "display_data"
    }
   ],
   "source": [
    "len(test)"
   ]
  },
  {
   "cell_type": "code",
   "execution_count": 10,
   "metadata": {},
   "outputs": [
    {
     "data": {
      "application/javascript": "\n            setTimeout(function() {\n                var nbb_cell_id = 10;\n                var nbb_unformatted_code = \"# test = [t for t in test if isIntervals_strictly_ordered(t[0])]\\n# test = [t for t in test if isRead_before_cas(t[0])]\\n# test = [t for t in test if not isAny_fcas_intersect_write_comb(t[0])]\";\n                var nbb_formatted_code = \"# test = [t for t in test if isIntervals_strictly_ordered(t[0])]\\n# test = [t for t in test if isRead_before_cas(t[0])]\\n# test = [t for t in test if not isAny_fcas_intersect_write_comb(t[0])]\";\n                var nbb_cells = Jupyter.notebook.get_cells();\n                for (var i = 0; i < nbb_cells.length; ++i) {\n                    if (nbb_cells[i].input_prompt_number == nbb_cell_id) {\n                        if (nbb_cells[i].get_text() == nbb_unformatted_code) {\n                             nbb_cells[i].set_text(nbb_formatted_code);\n                        }\n                        break;\n                    }\n                }\n            }, 500);\n            ",
      "text/plain": [
       "<IPython.core.display.Javascript object>"
      ]
     },
     "metadata": {},
     "output_type": "display_data"
    }
   ],
   "source": [
    "# test = [t for t in test if isIntervals_strictly_ordered(t[0])]\n",
    "# test = [t for t in test if isRead_before_cas(t[0])]\n",
    "# test = [t for t in test if not isAny_fcas_intersect_write_comb(t[0])]"
   ]
  },
  {
   "cell_type": "code",
   "execution_count": 11,
   "metadata": {},
   "outputs": [
    {
     "data": {
      "text/plain": [
       "747188"
      ]
     },
     "execution_count": 11,
     "metadata": {},
     "output_type": "execute_result"
    },
    {
     "data": {
      "application/javascript": "\n            setTimeout(function() {\n                var nbb_cell_id = 11;\n                var nbb_unformatted_code = \"len(test)\";\n                var nbb_formatted_code = \"len(test)\";\n                var nbb_cells = Jupyter.notebook.get_cells();\n                for (var i = 0; i < nbb_cells.length; ++i) {\n                    if (nbb_cells[i].input_prompt_number == nbb_cell_id) {\n                        if (nbb_cells[i].get_text() == nbb_unformatted_code) {\n                             nbb_cells[i].set_text(nbb_formatted_code);\n                        }\n                        break;\n                    }\n                }\n            }, 500);\n            ",
      "text/plain": [
       "<IPython.core.display.Javascript object>"
      ]
     },
     "metadata": {},
     "output_type": "display_data"
    }
   ],
   "source": [
    "len(test)"
   ]
  },
  {
   "cell_type": "code",
   "execution_count": 12,
   "metadata": {},
   "outputs": [
    {
     "data": {
      "application/javascript": "\n            setTimeout(function() {\n                var nbb_cell_id = 12;\n                var nbb_unformatted_code = \"# save_test(test, \\\"testcas_filtered.pkl\\\")\";\n                var nbb_formatted_code = \"# save_test(test, \\\"testcas_filtered.pkl\\\")\";\n                var nbb_cells = Jupyter.notebook.get_cells();\n                for (var i = 0; i < nbb_cells.length; ++i) {\n                    if (nbb_cells[i].input_prompt_number == nbb_cell_id) {\n                        if (nbb_cells[i].get_text() == nbb_unformatted_code) {\n                             nbb_cells[i].set_text(nbb_formatted_code);\n                        }\n                        break;\n                    }\n                }\n            }, 500);\n            ",
      "text/plain": [
       "<IPython.core.display.Javascript object>"
      ]
     },
     "metadata": {},
     "output_type": "display_data"
    }
   ],
   "source": [
    "# save_test(test, \"testcas_filtered.pkl\")\n"
   ]
  },
  {
   "cell_type": "code",
   "execution_count": 13,
   "metadata": {},
   "outputs": [
    {
     "data": {
      "application/javascript": "\n            setTimeout(function() {\n                var nbb_cell_id = 13;\n                var nbb_unformatted_code = \"# assert len(new_test) == len(test)\";\n                var nbb_formatted_code = \"# assert len(new_test) == len(test)\";\n                var nbb_cells = Jupyter.notebook.get_cells();\n                for (var i = 0; i < nbb_cells.length; ++i) {\n                    if (nbb_cells[i].input_prompt_number == nbb_cell_id) {\n                        if (nbb_cells[i].get_text() == nbb_unformatted_code) {\n                             nbb_cells[i].set_text(nbb_formatted_code);\n                        }\n                        break;\n                    }\n                }\n            }, 500);\n            ",
      "text/plain": [
       "<IPython.core.display.Javascript object>"
      ]
     },
     "metadata": {},
     "output_type": "display_data"
    }
   ],
   "source": [
    "# assert len(new_test) == len(test)"
   ]
  },
  {
   "cell_type": "code",
   "execution_count": 16,
   "metadata": {},
   "outputs": [
    {
     "data": {
      "application/javascript": "\n            setTimeout(function() {\n                var nbb_cell_id = 16;\n                var nbb_unformatted_code = \"def run_test(testsample: List[Tuple[List[Call], bool]]):\\n    wrong_test_no = []\\n    for i in tqdm.tqdm(range(len(testsample))):\\n        testcase, res = copy.deepcopy(testsample[i])\\n        try:\\n            sol = linearize_io(testcase)\\n            s2 = (sol is True)\\n            if res ^ s2:\\n                wrong_test_no.append(i)\\n\\n        except AssertionError as e:\\n            raise e\\n\\n    print(f\\\"Tests failed: {len(wrong_test_no)}\\\")\\n    if len(wrong_test_no) == 0:\\n        print(\\\"All tests passed\\\")\\n    else:\\n        print(f\\\"First failed: {str(wrong_test_no[:10]).strip('[]')} ...\\\")\\n    \\n    return wrong_test_no\";\n                var nbb_formatted_code = \"def run_test(testsample: List[Tuple[List[Call], bool]]):\\n    wrong_test_no = []\\n    for i in tqdm.tqdm(range(len(testsample))):\\n        testcase, res = copy.deepcopy(testsample[i])\\n        try:\\n            sol = linearize_io(testcase)\\n            s2 = sol is True\\n            if res ^ s2:\\n                wrong_test_no.append(i)\\n\\n        except AssertionError as e:\\n            raise e\\n\\n    print(f\\\"Tests failed: {len(wrong_test_no)}\\\")\\n    if len(wrong_test_no) == 0:\\n        print(\\\"All tests passed\\\")\\n    else:\\n        print(f\\\"First failed: {str(wrong_test_no[:10]).strip('[]')} ...\\\")\\n\\n    return wrong_test_no\";\n                var nbb_cells = Jupyter.notebook.get_cells();\n                for (var i = 0; i < nbb_cells.length; ++i) {\n                    if (nbb_cells[i].input_prompt_number == nbb_cell_id) {\n                        if (nbb_cells[i].get_text() == nbb_unformatted_code) {\n                             nbb_cells[i].set_text(nbb_formatted_code);\n                        }\n                        break;\n                    }\n                }\n            }, 500);\n            ",
      "text/plain": [
       "<IPython.core.display.Javascript object>"
      ]
     },
     "metadata": {},
     "output_type": "display_data"
    }
   ],
   "source": [
    "def run_test(testsample: List[Tuple[List[Call], bool]]):\n",
    "    wrong_test_no = []\n",
    "    for i in tqdm.tqdm(range(len(testsample))):\n",
    "        testcase, res = copy.deepcopy(testsample[i])\n",
    "        try:\n",
    "            sol = linearize_io(testcase)\n",
    "            s2 = (sol is True)\n",
    "            if res ^ s2:\n",
    "                wrong_test_no.append(i)\n",
    "\n",
    "        except AssertionError as e:\n",
    "            raise e\n",
    "\n",
    "    print(f\"Tests failed: {len(wrong_test_no)}\")\n",
    "    if len(wrong_test_no) == 0:\n",
    "        print(\"All tests passed\")\n",
    "    else:\n",
    "        print(f\"First failed: {str(wrong_test_no[:10]).strip('[]')} ...\")\n",
    "    \n",
    "    return wrong_test_no"
   ]
  },
  {
   "cell_type": "code",
   "execution_count": 103,
   "metadata": {},
   "outputs": [
    {
     "name": "stderr",
     "output_type": "stream",
     "text": [
      "100%|██████████| 747188/747188 [01:39<00:00, 7515.78it/s]"
     ]
    },
    {
     "name": "stdout",
     "output_type": "stream",
     "text": [
      "Tests failed: 0\n",
      "All tests passed\n"
     ]
    },
    {
     "name": "stderr",
     "output_type": "stream",
     "text": [
      "\n"
     ]
    },
    {
     "data": {
      "application/javascript": "\n            setTimeout(function() {\n                var nbb_cell_id = 103;\n                var nbb_unformatted_code = \"wrong_test_no = run_test(test)\";\n                var nbb_formatted_code = \"wrong_test_no = run_test(test)\";\n                var nbb_cells = Jupyter.notebook.get_cells();\n                for (var i = 0; i < nbb_cells.length; ++i) {\n                    if (nbb_cells[i].input_prompt_number == nbb_cell_id) {\n                        if (nbb_cells[i].get_text() == nbb_unformatted_code) {\n                             nbb_cells[i].set_text(nbb_formatted_code);\n                        }\n                        break;\n                    }\n                }\n            }, 500);\n            ",
      "text/plain": [
       "<IPython.core.display.Javascript object>"
      ]
     },
     "metadata": {},
     "output_type": "display_data"
    }
   ],
   "source": [
    "wrong_test_no = run_test(test)"
   ]
  },
  {
   "cell_type": "code",
   "execution_count": 99,
   "metadata": {},
   "outputs": [
    {
     "name": "stdout",
     "output_type": "stream",
     "text": [
      "Testcase 725564 is True\n",
      "[[4, 0], [3], [1]]\n",
      "False\n"
     ]
    },
    {
     "data": {
      "image/png": "[encoded data removed]",
      "text/plain": [
       "<Figure size 1600x1000 with 1 Axes>"
      ]
     },
     "metadata": {},
     "output_type": "display_data"
    },
    {
     "data": {
      "application/javascript": "\n            setTimeout(function() {\n                var nbb_cell_id = 99;\n                var nbb_unformatted_code = \"i = 725564\\ntestcase, res = copy.deepcopy(test[i])\\nprint(f\\\"Testcase {i} is {res}\\\")\\nprint(linearize_io(testcase, verbose=False))\\n# sol = linearize_generic(testcase, StateIO())\\n# visualize_history(testcase)\\nvisualize_history(testcase)\";\n                var nbb_formatted_code = \"i = 725564\\ntestcase, res = copy.deepcopy(test[i])\\nprint(f\\\"Testcase {i} is {res}\\\")\\nprint(linearize_io(testcase, verbose=False))\\n# sol = linearize_generic(testcase, StateIO())\\n# visualize_history(testcase)\\nvisualize_history(testcase)\";\n                var nbb_cells = Jupyter.notebook.get_cells();\n                for (var i = 0; i < nbb_cells.length; ++i) {\n                    if (nbb_cells[i].input_prompt_number == nbb_cell_id) {\n                        if (nbb_cells[i].get_text() == nbb_unformatted_code) {\n                             nbb_cells[i].set_text(nbb_formatted_code);\n                        }\n                        break;\n                    }\n                }\n            }, 500);\n            ",
      "text/plain": [
       "<IPython.core.display.Javascript object>"
      ]
     },
     "metadata": {},
     "output_type": "display_data"
    }
   ],
   "source": [
    "i = 725564\n",
    "testcase, res = copy.deepcopy(test[i])\n",
    "print(f\"Testcase {i} is {res}\")\n",
    "print(linearize_io(testcase, verbose=False))\n",
    "# sol = linearize_generic(testcase, StateIO())\n",
    "# visualize_history(testcase)\n",
    "visualize_history(testcase)"
   ]
  },
  {
   "cell_type": "code",
   "execution_count": 64,
   "metadata": {},
   "outputs": [
    {
     "name": "stdout",
     "output_type": "stream",
     "text": [
      "Testcase 165096 is True\n"
     ]
    },
    {
     "data": {
      "image/png": "[encoded data removed]",
      "text/plain": [
       "<Figure size 1600x1000 with 1 Axes>"
      ]
     },
     "metadata": {},
     "output_type": "display_data"
    },
    {
     "data": {
      "application/javascript": "\n            setTimeout(function() {\n                var nbb_cell_id = 64;\n                var nbb_unformatted_code = \"testcase, res = copy.deepcopy(test[i])\\nprint(f\\\"Testcase {i} is {res}\\\")\\nvisualize_history(testcase)\";\n                var nbb_formatted_code = \"testcase, res = copy.deepcopy(test[i])\\nprint(f\\\"Testcase {i} is {res}\\\")\\nvisualize_history(testcase)\";\n                var nbb_cells = Jupyter.notebook.get_cells();\n                for (var i = 0; i < nbb_cells.length; ++i) {\n                    if (nbb_cells[i].input_prompt_number == nbb_cell_id) {\n                        if (nbb_cells[i].get_text() == nbb_unformatted_code) {\n                             nbb_cells[i].set_text(nbb_formatted_code);\n                        }\n                        break;\n                    }\n                }\n            }, 500);\n            ",
      "text/plain": [
       "<IPython.core.display.Javascript object>"
      ]
     },
     "metadata": {},
     "output_type": "display_data"
    }
   ],
   "source": [
    "testcase, res = copy.deepcopy(test[i])\n",
    "print(f\"Testcase {i} is {res}\")\n",
    "visualize_history(testcase)"
   ]
  },
  {
   "cell_type": "code",
   "execution_count": null,
   "metadata": {},
   "outputs": [],
   "source": [
    "for wrong_test in no[:10]:\n",
    "    testcase, res = copy.deepcopy(test[wrong_test])\n",
    "    print(f\"Testcase {wrong_test} is {res}\")\n",
    "    print(linearize_io(testcase, verbose=True))\n",
    "    visualize_history(testcase)"
   ]
  }
 ],
 "metadata": {
  "kernelspec": {
   "display_name": "Python 3 (ipykernel)",
   "language": "python",
   "name": "python3"
  },
  "language_info": {
   "codemirror_mode": {
    "name": "ipython",
    "version": 3
   },
   "file_extension": ".py",
   "mimetype": "text/x-python",
   "name": "python",
   "nbconvert_exporter": "python",
   "pygments_lexer": "ipython3",
   "version": "3.10.6"
  },
  "orig_nbformat": 4,
  "vscode": {
   "interpreter": {
    "hash": "31f2aee4e71d21fbe5cf8b01ff0e069b9275f58929596ceb00d14d90e3e16cd6"
   }
  }
 },
 "nbformat": 4,
 "nbformat_minor": 2
}
