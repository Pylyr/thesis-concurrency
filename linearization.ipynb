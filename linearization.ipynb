{
 "cells": [
  {
   "cell_type": "code",
   "execution_count": 4,
   "metadata": {},
   "outputs": [
    {
     "data": {
      "application/javascript": "\n            setTimeout(function() {\n                var nbb_cell_id = 4;\n                var nbb_unformatted_code = \"from dataclasses import dataclass, field\\nfrom typing import List, Set, Tuple, Any, Dict, DefaultDict, Optional, Callable, cast\\nimport copy\\nimport uuid\\nfrom collections import defaultdict\\nfrom itertools import permutations\\nimport matplotlib.pyplot as plt\\nimport random\\nimport math\\nfrom tqdm import tqdm\\nimport pickle\\nimport bisect\\n\\n# code-formatting\\n%load_ext nb_black\";\n                var nbb_formatted_code = \"from dataclasses import dataclass, field\\nfrom typing import List, Set, Tuple, Any, Dict, DefaultDict, Optional, Callable, cast\\nimport copy\\nimport uuid\\nfrom collections import defaultdict\\nfrom itertools import permutations\\nimport matplotlib.pyplot as plt\\nimport random\\nimport math\\nfrom tqdm import tqdm\\nimport pickle\\nimport bisect\\n\\n# code-formatting\\n%load_ext nb_black\";\n                var nbb_cells = Jupyter.notebook.get_cells();\n                for (var i = 0; i < nbb_cells.length; ++i) {\n                    if (nbb_cells[i].input_prompt_number == nbb_cell_id) {\n                        if (nbb_cells[i].get_text() == nbb_unformatted_code) {\n                             nbb_cells[i].set_text(nbb_formatted_code);\n                        }\n                        break;\n                    }\n                }\n            }, 500);\n            ",
      "text/plain": [
       "<IPython.core.display.Javascript object>"
      ]
     },
     "metadata": {},
     "output_type": "display_data"
    }
   ],
   "source": [
    "from dataclasses import dataclass, field\n",
    "from typing import List, Set, Tuple, Any, Dict, DefaultDict, Optional, Callable, cast\n",
    "import copy\n",
    "import uuid\n",
    "from collections import defaultdict\n",
    "from itertools import permutations\n",
    "import matplotlib.pyplot as plt\n",
    "import random\n",
    "import math\n",
    "from tqdm import tqdm\n",
    "import pickle\n",
    "import bisect\n",
    "\n",
    "# code-formatting\n",
    "%load_ext nb_black\n"
   ]
  },
  {
   "cell_type": "code",
   "execution_count": 5,
   "metadata": {},
   "outputs": [
    {
     "data": {
      "application/javascript": "\n            setTimeout(function() {\n                var nbb_cell_id = 5;\n                var nbb_unformatted_code = \"class Call:\\n    def __init__(self, threadno, func, args, start, end):\\n        super().__init__()\\n        self.threadno : int = threadno\\n        self.func : str = func\\n        self.args : List[Any] = args\\n        self.start : float = start\\n        self.end : float = end\\n        self.order : Optional[int] = None\\n\\n    def __eq__(self, other : object):\\n        if not isinstance(other, Call):\\n            raise NotImplementedError\\n        return (self.threadno, self.func, self.args, self.start, self.end, self.order) == (other.threadno, other.func, other.args, other.start, other.end, other.order)\\n\\n    def __hash__(self):\\n        return hash((self.threadno, self.func, tuple(self.args), self.start, self.end, self.order))\\n    \\n    def __str__(self):\\n        return f'{self.func}({self.args})'\\n    \\n    def exec(self, state : 'State') -> Tuple['State', Any]:\\n        raise NotImplementedError\\n\\nclass State:\\n    def copy(self) -> 'State':\\n        raise NotImplementedError\\n    \\n\\nclass History:\\n    \\\"\\\"\\\"Nice wrapper for a list of calls\\\"\\\"\\\"\\n    def __init__(self, calls : List[Call]):\\n        self.calls : List[Call] = calls\\n    \\n    def __eq__(self, other : object):\\n        if not isinstance(other, History):\\n            raise NotImplementedError\\n        return self.calls == other.calls\\n\\n@dataclass\\nclass I:\\n    \\\"\\\"\\\"\\n    If normal, start = first return, end = last call\\\\n\\n    If reversed, start = last call, end = first return\\n    \\\"\\\"\\\"\\n    start : float\\n    end : float\\n    reversed : bool = False\\n    \";\n                var nbb_formatted_code = \"class Call:\\n    def __init__(self, threadno, func, args, start, end):\\n        super().__init__()\\n        self.threadno: int = threadno\\n        self.func: str = func\\n        self.args: List[Any] = args\\n        self.start: float = start\\n        self.end: float = end\\n        self.order: Optional[int] = None\\n\\n    def __eq__(self, other: object):\\n        if not isinstance(other, Call):\\n            raise NotImplementedError\\n        return (\\n            self.threadno,\\n            self.func,\\n            self.args,\\n            self.start,\\n            self.end,\\n            self.order,\\n        ) == (\\n            other.threadno,\\n            other.func,\\n            other.args,\\n            other.start,\\n            other.end,\\n            other.order,\\n        )\\n\\n    def __hash__(self):\\n        return hash(\\n            (\\n                self.threadno,\\n                self.func,\\n                tuple(self.args),\\n                self.start,\\n                self.end,\\n                self.order,\\n            )\\n        )\\n\\n    def __str__(self):\\n        return f\\\"{self.func}({self.args})\\\"\\n\\n    def exec(self, state: \\\"State\\\") -> Tuple[\\\"State\\\", Any]:\\n        raise NotImplementedError\\n\\n\\nclass State:\\n    def copy(self) -> \\\"State\\\":\\n        raise NotImplementedError\\n\\n\\nclass History:\\n    \\\"\\\"\\\"Nice wrapper for a list of calls\\\"\\\"\\\"\\n\\n    def __init__(self, calls: List[Call]):\\n        self.calls: List[Call] = calls\\n\\n    def __eq__(self, other: object):\\n        if not isinstance(other, History):\\n            raise NotImplementedError\\n        return self.calls == other.calls\\n\\n\\n@dataclass\\nclass I:\\n    \\\"\\\"\\\"\\n    If normal, start = first return, end = last call\\\\n\\n    If reversed, start = last call, end = first return\\n    \\\"\\\"\\\"\\n\\n    start: float\\n    end: float\\n    reversed: bool = False\";\n                var nbb_cells = Jupyter.notebook.get_cells();\n                for (var i = 0; i < nbb_cells.length; ++i) {\n                    if (nbb_cells[i].input_prompt_number == nbb_cell_id) {\n                        if (nbb_cells[i].get_text() == nbb_unformatted_code) {\n                             nbb_cells[i].set_text(nbb_formatted_code);\n                        }\n                        break;\n                    }\n                }\n            }, 500);\n            ",
      "text/plain": [
       "<IPython.core.display.Javascript object>"
      ]
     },
     "metadata": {},
     "output_type": "display_data"
    }
   ],
   "source": [
    "class Call:\n",
    "    def __init__(self, threadno, func, args, start, end):\n",
    "        super().__init__()\n",
    "        self.threadno : int = threadno\n",
    "        self.func : str = func\n",
    "        self.args : List[Any] = args\n",
    "        self.start : float = start\n",
    "        self.end : float = end\n",
    "        self.order : Optional[int] = None\n",
    "\n",
    "    def __eq__(self, other : object):\n",
    "        if not isinstance(other, Call):\n",
    "            raise NotImplementedError\n",
    "        return (self.threadno, self.func, self.args, self.start, self.end, self.order) == (other.threadno, other.func, other.args, other.start, other.end, other.order)\n",
    "\n",
    "    def __hash__(self):\n",
    "        return hash((self.threadno, self.func, tuple(self.args), self.start, self.end, self.order))\n",
    "    \n",
    "    def __str__(self):\n",
    "        return f'{self.func}({self.args})'\n",
    "    \n",
    "    def exec(self, state : 'State') -> Tuple['State', Any]:\n",
    "        raise NotImplementedError\n",
    "\n",
    "class State:\n",
    "    def copy(self) -> 'State':\n",
    "        raise NotImplementedError\n",
    "    \n",
    "\n",
    "class History:\n",
    "    \"\"\"Nice wrapper for a list of calls\"\"\"\n",
    "    def __init__(self, calls : List[Call]):\n",
    "        self.calls : List[Call] = calls\n",
    "    \n",
    "    def __eq__(self, other : object):\n",
    "        if not isinstance(other, History):\n",
    "            raise NotImplementedError\n",
    "        return self.calls == other.calls\n",
    "\n",
    "@dataclass\n",
    "class I:\n",
    "    \"\"\"\n",
    "    If normal, start = first return, end = last call\\n\n",
    "    If reversed, start = last call, end = first return\n",
    "    \"\"\"\n",
    "    start : float\n",
    "    end : float\n",
    "    reversed : bool = False\n",
    "    "
   ]
  },
  {
   "cell_type": "code",
   "execution_count": 6,
   "metadata": {},
   "outputs": [
    {
     "data": {
      "application/javascript": "\n            setTimeout(function() {\n                var nbb_cell_id = 6;\n                var nbb_unformatted_code = \"def sort_by_thread(spec: List[Call]):\\n    threads : DefaultDict[int, List[Call]] = defaultdict(list)\\n    for c in spec:\\n        threads[c.threadno].append(c)\\n    return threads\\n\\ndef visualize_history(spec : List[Call]):\\n    # make the graph big enough so that the labels don't overlap\\n    fig, ax = plt.subplots(figsize=(16, 10))\\n    threads = sort_by_thread(spec)\\n\\n    ax.set_yticks(range(max(threads.keys()) + 2))\\n    # leave margins on the top and bottom of the graph for the labels\\n    ax.set_ylim(-0.5, max(threads.keys()) + 1.5)\\n\\n    for threadno, ops in threads.items():\\n        for op in ops:\\n            # draw the interval\\n            ax.plot([op.start , op.end], [threadno, threadno], color='black')\\n            # add little ticks at the start and end of the interval\\n            ax.plot([op.start, op.start], [threadno - 0.1, threadno + 0.1], color='black')\\n            ax.plot([op.end, op.end], [threadno - 0.1, threadno + 0.1], color='black')\\n            # draw the label slightly above the interval\\n            ax.text((op.start + op.end) / 2, threadno + 0.1, str(op), horizontalalignment='center', verticalalignment='center')\\n            # draw the order of the operation above the label in red\\n            if op.order is not None:\\n                ax.text((op.start + op.end) / 2, threadno + 0.25, str(op.order), horizontalalignment='center', verticalalignment='center', color='red')\\n    \\n    plt.show()\";\n                var nbb_formatted_code = \"def sort_by_thread(spec: List[Call]):\\n    threads: DefaultDict[int, List[Call]] = defaultdict(list)\\n    for c in spec:\\n        threads[c.threadno].append(c)\\n    return threads\\n\\n\\ndef visualize_history(spec: List[Call]):\\n    # make the graph big enough so that the labels don't overlap\\n    fig, ax = plt.subplots(figsize=(16, 10))\\n    threads = sort_by_thread(spec)\\n\\n    ax.set_yticks(range(max(threads.keys()) + 2))\\n    # leave margins on the top and bottom of the graph for the labels\\n    ax.set_ylim(-0.5, max(threads.keys()) + 1.5)\\n\\n    for threadno, ops in threads.items():\\n        for op in ops:\\n            # draw the interval\\n            ax.plot([op.start, op.end], [threadno, threadno], color=\\\"black\\\")\\n            # add little ticks at the start and end of the interval\\n            ax.plot(\\n                [op.start, op.start], [threadno - 0.1, threadno + 0.1], color=\\\"black\\\"\\n            )\\n            ax.plot([op.end, op.end], [threadno - 0.1, threadno + 0.1], color=\\\"black\\\")\\n            # draw the label slightly above the interval\\n            ax.text(\\n                (op.start + op.end) / 2,\\n                threadno + 0.1,\\n                str(op),\\n                horizontalalignment=\\\"center\\\",\\n                verticalalignment=\\\"center\\\",\\n            )\\n            # draw the order of the operation above the label in red\\n            if op.order is not None:\\n                ax.text(\\n                    (op.start + op.end) / 2,\\n                    threadno + 0.25,\\n                    str(op.order),\\n                    horizontalalignment=\\\"center\\\",\\n                    verticalalignment=\\\"center\\\",\\n                    color=\\\"red\\\",\\n                )\\n\\n    plt.show()\";\n                var nbb_cells = Jupyter.notebook.get_cells();\n                for (var i = 0; i < nbb_cells.length; ++i) {\n                    if (nbb_cells[i].input_prompt_number == nbb_cell_id) {\n                        if (nbb_cells[i].get_text() == nbb_unformatted_code) {\n                             nbb_cells[i].set_text(nbb_formatted_code);\n                        }\n                        break;\n                    }\n                }\n            }, 500);\n            ",
      "text/plain": [
       "<IPython.core.display.Javascript object>"
      ]
     },
     "metadata": {},
     "output_type": "display_data"
    }
   ],
   "source": [
    "def sort_by_thread(spec: List[Call]):\n",
    "    threads : DefaultDict[int, List[Call]] = defaultdict(list)\n",
    "    for c in spec:\n",
    "        threads[c.threadno].append(c)\n",
    "    return threads\n",
    "\n",
    "def visualize_history(spec : List[Call]):\n",
    "    # make the graph big enough so that the labels don't overlap\n",
    "    fig, ax = plt.subplots(figsize=(16, 10))\n",
    "    threads = sort_by_thread(spec)\n",
    "\n",
    "    ax.set_yticks(range(max(threads.keys()) + 2))\n",
    "    # leave margins on the top and bottom of the graph for the labels\n",
    "    ax.set_ylim(-0.5, max(threads.keys()) + 1.5)\n",
    "\n",
    "    for threadno, ops in threads.items():\n",
    "        for op in ops:\n",
    "            # draw the interval\n",
    "            ax.plot([op.start , op.end], [threadno, threadno], color='black')\n",
    "            # add little ticks at the start and end of the interval\n",
    "            ax.plot([op.start, op.start], [threadno - 0.1, threadno + 0.1], color='black')\n",
    "            ax.plot([op.end, op.end], [threadno - 0.1, threadno + 0.1], color='black')\n",
    "            # draw the label slightly above the interval\n",
    "            ax.text((op.start + op.end) / 2, threadno + 0.1, str(op), horizontalalignment='center', verticalalignment='center')\n",
    "            # draw the order of the operation above the label in red\n",
    "            if op.order is not None:\n",
    "                ax.text((op.start + op.end) / 2, threadno + 0.25, str(op.order), horizontalalignment='center', verticalalignment='center', color='red')\n",
    "    \n",
    "    plt.show()"
   ]
  },
  {
   "cell_type": "code",
   "execution_count": 7,
   "metadata": {},
   "outputs": [
    {
     "data": {
      "application/javascript": "\n            setTimeout(function() {\n                var nbb_cell_id = 7;\n                var nbb_unformatted_code = \"def linearize_generic(spec: List[Call], state: State):\\n    threads: DefaultDict[int, List[Call]] = sort_by_thread(spec)\\n\\n    def helper(threads: DefaultDict[int, List[Call]], state: State):\\n        res: List[List[Call]] = []\\n        first_op_per_thread = [t[0] for t in threads.values() if t]\\n        if not first_op_per_thread:\\n            return res\\n        ref = first_op_per_thread.pop()\\n        candidates: List[Call] = [ref]\\n        while first_op_per_thread:\\n            op = first_op_per_thread.pop()\\n            if op.start >= ref.end:\\n                # if op starts after ref ends, then we cannot call op before ref, as that would violate the linearizability\\n                continue\\n            elif op.end <= ref.end:\\n                ref = op\\n                candidates.append(op)\\n                # we have to recheck all exisiting candidates, as they might be invalidated by the new ref\\n                for c in tuple(candidates):\\n                    if c.start >= ref.end:\\n                        candidates.remove(c)\\n            else:\\n                # other 2 cases are when op starts before ref ends, and when op ends after ref ends\\n                candidates.append(op)\\n\\n        # now we just pop a candidate an proceed by recursion\\n        # print(f'candidates: {candidates}')\\n        for c in candidates:\\n            # print(f'candidate: {c}')\\n\\n            new_state = state.copy()\\n            optional_state = c.exec(new_state)\\n            if optional_state is not None:\\n                new_state, _ = optional_state\\n            else:\\n                continue\\n\\n            threads_copy = copy.deepcopy(threads)\\n\\n            threads_copy[c.threadno].pop(0)\\n            sol = helper(threads_copy, new_state)\\n            if sol is not None:\\n                # since sol is a list of solutions, we need to add the current candidate to all of them\\n                # two cases:\\n                # 1. sol is empty, then we just add the candidate\\n                # 2. sol is not empty, then we add the candidate to all of them\\n                if sol == []:\\n                    res.append([c])\\n                else:\\n                    for s in sol:\\n                        s.insert(0, c)\\n                    res.extend(sol)\\n\\n        if not res:\\n            return None\\n        return res\\n\\n    # sort threads by the start time of the first operation\\n    for t in threads.values():\\n        t.sort(key=lambda x: x.start)\\n    ret = helper(threads, state)\\n    if ret is None:\\n        return ret\\n    for i in range(len(ret)):\\n        for j in range(len(ret[i])):\\n            ret[i][j].order = j + 1\\n\\n    return ret\";\n                var nbb_formatted_code = \"def linearize_generic(spec: List[Call], state: State):\\n    threads: DefaultDict[int, List[Call]] = sort_by_thread(spec)\\n\\n    def helper(threads: DefaultDict[int, List[Call]], state: State):\\n        res: List[List[Call]] = []\\n        first_op_per_thread = [t[0] for t in threads.values() if t]\\n        if not first_op_per_thread:\\n            return res\\n        ref = first_op_per_thread.pop()\\n        candidates: List[Call] = [ref]\\n        while first_op_per_thread:\\n            op = first_op_per_thread.pop()\\n            if op.start >= ref.end:\\n                # if op starts after ref ends, then we cannot call op before ref, as that would violate the linearizability\\n                continue\\n            elif op.end <= ref.end:\\n                ref = op\\n                candidates.append(op)\\n                # we have to recheck all exisiting candidates, as they might be invalidated by the new ref\\n                for c in tuple(candidates):\\n                    if c.start >= ref.end:\\n                        candidates.remove(c)\\n            else:\\n                # other 2 cases are when op starts before ref ends, and when op ends after ref ends\\n                candidates.append(op)\\n\\n        # now we just pop a candidate an proceed by recursion\\n        # print(f'candidates: {candidates}')\\n        for c in candidates:\\n            # print(f'candidate: {c}')\\n\\n            new_state = state.copy()\\n            optional_state = c.exec(new_state)\\n            if optional_state is not None:\\n                new_state, _ = optional_state\\n            else:\\n                continue\\n\\n            threads_copy = copy.deepcopy(threads)\\n\\n            threads_copy[c.threadno].pop(0)\\n            sol = helper(threads_copy, new_state)\\n            if sol is not None:\\n                # since sol is a list of solutions, we need to add the current candidate to all of them\\n                # two cases:\\n                # 1. sol is empty, then we just add the candidate\\n                # 2. sol is not empty, then we add the candidate to all of them\\n                if sol == []:\\n                    res.append([c])\\n                else:\\n                    for s in sol:\\n                        s.insert(0, c)\\n                    res.extend(sol)\\n\\n        if not res:\\n            return None\\n        return res\\n\\n    # sort threads by the start time of the first operation\\n    for t in threads.values():\\n        t.sort(key=lambda x: x.start)\\n    ret = helper(threads, state)\\n    if ret is None:\\n        return ret\\n    for i in range(len(ret)):\\n        for j in range(len(ret[i])):\\n            ret[i][j].order = j + 1\\n\\n    return ret\";\n                var nbb_cells = Jupyter.notebook.get_cells();\n                for (var i = 0; i < nbb_cells.length; ++i) {\n                    if (nbb_cells[i].input_prompt_number == nbb_cell_id) {\n                        if (nbb_cells[i].get_text() == nbb_unformatted_code) {\n                             nbb_cells[i].set_text(nbb_formatted_code);\n                        }\n                        break;\n                    }\n                }\n            }, 500);\n            ",
      "text/plain": [
       "<IPython.core.display.Javascript object>"
      ]
     },
     "metadata": {},
     "output_type": "display_data"
    }
   ],
   "source": [
    "def linearize_generic(spec: List[Call], state: State):\n",
    "    threads: DefaultDict[int, List[Call]] = sort_by_thread(spec)\n",
    "\n",
    "    def helper(threads: DefaultDict[int, List[Call]], state: State):\n",
    "        res: List[List[Call]] = []\n",
    "        first_op_per_thread = [t[0] for t in threads.values() if t]\n",
    "        if not first_op_per_thread:\n",
    "            return res\n",
    "        ref = first_op_per_thread.pop()\n",
    "        candidates: List[Call] = [ref]\n",
    "        while first_op_per_thread:\n",
    "            op = first_op_per_thread.pop()\n",
    "            if op.start >= ref.end:\n",
    "                # if op starts after ref ends, then we cannot call op before ref, as that would violate the linearizability\n",
    "                continue\n",
    "            elif op.end <= ref.end:\n",
    "                ref = op\n",
    "                candidates.append(op)\n",
    "                # we have to recheck all exisiting candidates, as they might be invalidated by the new ref\n",
    "                for c in tuple(candidates):\n",
    "                    if c.start >= ref.end:\n",
    "                        candidates.remove(c)\n",
    "            else:\n",
    "                # other 2 cases are when op starts before ref ends, and when op ends after ref ends\n",
    "                candidates.append(op)\n",
    "\n",
    "        # now we just pop a candidate an proceed by recursion\n",
    "        # print(f'candidates: {candidates}')\n",
    "        for c in candidates:\n",
    "            # print(f'candidate: {c}')\n",
    "\n",
    "            new_state = state.copy()\n",
    "            optional_state = c.exec(new_state)\n",
    "            if optional_state is not None:\n",
    "                new_state, _ = optional_state\n",
    "            else:\n",
    "                continue\n",
    "\n",
    "            threads_copy = copy.deepcopy(threads)\n",
    "\n",
    "            threads_copy[c.threadno].pop(0)\n",
    "            sol = helper(threads_copy, new_state)\n",
    "            if sol is not None:\n",
    "                # since sol is a list of solutions, we need to add the current candidate to all of them\n",
    "                # two cases:\n",
    "                # 1. sol is empty, then we just add the candidate\n",
    "                # 2. sol is not empty, then we add the candidate to all of them\n",
    "                if sol == []:\n",
    "                    res.append([c])\n",
    "                else:\n",
    "                    for s in sol:\n",
    "                        s.insert(0, c)\n",
    "                    res.extend(sol)\n",
    "\n",
    "        if not res:\n",
    "            return None\n",
    "        return res\n",
    "\n",
    "    # sort threads by the start time of the first operation\n",
    "    for t in threads.values():\n",
    "        t.sort(key=lambda x: x.start)\n",
    "    ret = helper(threads, state)\n",
    "    if ret is None:\n",
    "        return ret\n",
    "    for i in range(len(ret)):\n",
    "        for j in range(len(ret[i])):\n",
    "            ret[i][j].order = j + 1\n",
    "\n",
    "    return ret\n"
   ]
  },
  {
   "cell_type": "code",
   "execution_count": 8,
   "metadata": {},
   "outputs": [
    {
     "data": {
      "application/javascript": "\n            setTimeout(function() {\n                var nbb_cell_id = 8;\n                var nbb_unformatted_code = \"# These are special cases for the queue example\\n\\n@dataclass\\nclass StateQueue(State):\\n    stack : List[Any] = field(default_factory = list)\\n\\n    def copy(self):\\n        return StateQueue(stack=self.stack.copy())\\n\\n\\nclass CallEnq(Call):\\n    def __init__(self, threadno, arg : int, start, end):\\n        self.arg = arg\\n        super().__init__(threadno, \\\"enq\\\", [arg], start, end)\\n\\n    def exec(self, state):\\n        if not isinstance(state, StateQueue):\\n            raise Exception(\\\"State is not a StateQueue\\\")\\n        state.stack.append(self.arg)\\n        return state, None\\n\\nclass CallDeq(Call):\\n    def __init__(self, threadno, arg : int, start, end):\\n        self.arg = arg\\n        super().__init__(threadno, \\\"deq\\\", [arg], start, end)\\n\\n    def exec(self, state):\\n        if not isinstance(state, StateQueue):\\n            raise Exception(\\\"State is not a StateQueue\\\")\\n        if len(state.stack) == 0:\\n            return \\n        e = state.stack.pop(0)\\n        if e != self.arg:\\n            return \\n        return state, e\";\n                var nbb_formatted_code = \"# These are special cases for the queue example\\n\\n\\n@dataclass\\nclass StateQueue(State):\\n    stack: List[Any] = field(default_factory=list)\\n\\n    def copy(self):\\n        return StateQueue(stack=self.stack.copy())\\n\\n\\nclass CallEnq(Call):\\n    def __init__(self, threadno, arg: int, start, end):\\n        self.arg = arg\\n        super().__init__(threadno, \\\"enq\\\", [arg], start, end)\\n\\n    def exec(self, state):\\n        if not isinstance(state, StateQueue):\\n            raise Exception(\\\"State is not a StateQueue\\\")\\n        state.stack.append(self.arg)\\n        return state, None\\n\\n\\nclass CallDeq(Call):\\n    def __init__(self, threadno, arg: int, start, end):\\n        self.arg = arg\\n        super().__init__(threadno, \\\"deq\\\", [arg], start, end)\\n\\n    def exec(self, state):\\n        if not isinstance(state, StateQueue):\\n            raise Exception(\\\"State is not a StateQueue\\\")\\n        if len(state.stack) == 0:\\n            return\\n        e = state.stack.pop(0)\\n        if e != self.arg:\\n            return\\n        return state, e\";\n                var nbb_cells = Jupyter.notebook.get_cells();\n                for (var i = 0; i < nbb_cells.length; ++i) {\n                    if (nbb_cells[i].input_prompt_number == nbb_cell_id) {\n                        if (nbb_cells[i].get_text() == nbb_unformatted_code) {\n                             nbb_cells[i].set_text(nbb_formatted_code);\n                        }\n                        break;\n                    }\n                }\n            }, 500);\n            ",
      "text/plain": [
       "<IPython.core.display.Javascript object>"
      ]
     },
     "metadata": {},
     "output_type": "display_data"
    }
   ],
   "source": [
    "# These are special cases for the queue example\n",
    "\n",
    "@dataclass\n",
    "class StateQueue(State):\n",
    "    stack : List[Any] = field(default_factory = list)\n",
    "\n",
    "    def copy(self):\n",
    "        return StateQueue(stack=self.stack.copy())\n",
    "\n",
    "\n",
    "class CallEnq(Call):\n",
    "    def __init__(self, threadno, arg : int, start, end):\n",
    "        self.arg = arg\n",
    "        super().__init__(threadno, \"enq\", [arg], start, end)\n",
    "\n",
    "    def exec(self, state):\n",
    "        if not isinstance(state, StateQueue):\n",
    "            raise Exception(\"State is not a StateQueue\")\n",
    "        state.stack.append(self.arg)\n",
    "        return state, None\n",
    "\n",
    "class CallDeq(Call):\n",
    "    def __init__(self, threadno, arg : int, start, end):\n",
    "        self.arg = arg\n",
    "        super().__init__(threadno, \"deq\", [arg], start, end)\n",
    "\n",
    "    def exec(self, state):\n",
    "        if not isinstance(state, StateQueue):\n",
    "            raise Exception(\"State is not a StateQueue\")\n",
    "        if len(state.stack) == 0:\n",
    "            return \n",
    "        e = state.stack.pop(0)\n",
    "        if e != self.arg:\n",
    "            return \n",
    "        return state, e"
   ]
  },
  {
   "cell_type": "code",
   "execution_count": 9,
   "metadata": {},
   "outputs": [
    {
     "data": {
      "application/javascript": "\n            setTimeout(function() {\n                var nbb_cell_id = 9;\n                var nbb_unformatted_code = \"# These are special cases for the i/o operations on the register example\\n\\n@dataclass\\nclass StateIO(State):\\n    value : Optional[int] = None\\n\\n    def copy(self):\\n        return StateIO(value=self.value)\\n\\nclass CallWrite(Call):\\n    def __init__(self, threadno, arg : int, start, end):\\n        self.arg = arg\\n        super().__init__(threadno, \\\"write\\\", [arg], start, end)\\n\\n    def exec(self, state):\\n        if not isinstance(state, StateIO):\\n            raise Exception(\\\"State is not of type StateIO\\\")\\n        state.value = self.arg\\n        return state, None\\n\\nclass CallRead(Call):\\n    def __init__(self, threadno, arg : int, start, end):\\n        self.arg = arg\\n        super().__init__(threadno, \\\"read\\\", [arg], start, end)\\n\\n    def exec(self, state):\\n        if not isinstance(state, StateIO):\\n            raise Exception(\\\"State is not of type StateIO\\\")\\n        if state.value is None:\\n            return\\n        if state.value != self.arg:\\n            return\\n        return state, None\\n    \\nclass CallCAS(Call):\\n    def __init__(self, threadno, compare: int, swap: int, cond: bool, start, end):\\n        self.cond = cond\\n        self.compare = compare\\n        self.swap = swap\\n        super().__init__(threadno, f\\\"cas\\\", [compare, swap, cond], start, end)\\n    \\n    def __str__(self):\\n        if self.cond:\\n            return f\\\"{self.compare} -> {self.swap}\\\"\\n        else:\\n            return f\\\"!{self.compare}\\\"\\n        \\n    def exec(self, state):\\n        if not isinstance(state, StateIO):\\n            raise Exception(\\\"State is not of type StateIO\\\")\\n        if state.value is None:\\n            return\\n       # if cond is True, the value must be equal to compare\\n        if self.cond:\\n            if state.value != self.compare:\\n                return\\n            state.value = self.swap\\n            return state, None\\n        # if cond is False, the value must be different from compare\\n        else:\\n            if state.value == self.compare:\\n                return\\n            return state, None\";\n                var nbb_formatted_code = \"# These are special cases for the i/o operations on the register example\\n\\n\\n@dataclass\\nclass StateIO(State):\\n    value: Optional[int] = None\\n\\n    def copy(self):\\n        return StateIO(value=self.value)\\n\\n\\nclass CallWrite(Call):\\n    def __init__(self, threadno, arg: int, start, end):\\n        self.arg = arg\\n        super().__init__(threadno, \\\"write\\\", [arg], start, end)\\n\\n    def exec(self, state):\\n        if not isinstance(state, StateIO):\\n            raise Exception(\\\"State is not of type StateIO\\\")\\n        state.value = self.arg\\n        return state, None\\n\\n\\nclass CallRead(Call):\\n    def __init__(self, threadno, arg: int, start, end):\\n        self.arg = arg\\n        super().__init__(threadno, \\\"read\\\", [arg], start, end)\\n\\n    def exec(self, state):\\n        if not isinstance(state, StateIO):\\n            raise Exception(\\\"State is not of type StateIO\\\")\\n        if state.value is None:\\n            return\\n        if state.value != self.arg:\\n            return\\n        return state, None\\n\\n\\nclass CallCAS(Call):\\n    def __init__(self, threadno, compare: int, swap: int, cond: bool, start, end):\\n        self.cond = cond\\n        self.compare = compare\\n        self.swap = swap\\n        super().__init__(threadno, f\\\"cas\\\", [compare, swap, cond], start, end)\\n\\n    def __str__(self):\\n        if self.cond:\\n            return f\\\"{self.compare} -> {self.swap}\\\"\\n        else:\\n            return f\\\"!{self.compare}\\\"\\n\\n    def exec(self, state):\\n        if not isinstance(state, StateIO):\\n            raise Exception(\\\"State is not of type StateIO\\\")\\n        if state.value is None:\\n            return\\n        # if cond is True, the value must be equal to compare\\n        if self.cond:\\n            if state.value != self.compare:\\n                return\\n            state.value = self.swap\\n            return state, None\\n        # if cond is False, the value must be different from compare\\n        else:\\n            if state.value == self.compare:\\n                return\\n            return state, None\";\n                var nbb_cells = Jupyter.notebook.get_cells();\n                for (var i = 0; i < nbb_cells.length; ++i) {\n                    if (nbb_cells[i].input_prompt_number == nbb_cell_id) {\n                        if (nbb_cells[i].get_text() == nbb_unformatted_code) {\n                             nbb_cells[i].set_text(nbb_formatted_code);\n                        }\n                        break;\n                    }\n                }\n            }, 500);\n            ",
      "text/plain": [
       "<IPython.core.display.Javascript object>"
      ]
     },
     "metadata": {},
     "output_type": "display_data"
    }
   ],
   "source": [
    "# These are special cases for the i/o operations on the register example\n",
    "\n",
    "@dataclass\n",
    "class StateIO(State):\n",
    "    value : Optional[int] = None\n",
    "\n",
    "    def copy(self):\n",
    "        return StateIO(value=self.value)\n",
    "\n",
    "class CallWrite(Call):\n",
    "    def __init__(self, threadno, arg : int, start, end):\n",
    "        self.arg = arg\n",
    "        super().__init__(threadno, \"write\", [arg], start, end)\n",
    "\n",
    "    def exec(self, state):\n",
    "        if not isinstance(state, StateIO):\n",
    "            raise Exception(\"State is not of type StateIO\")\n",
    "        state.value = self.arg\n",
    "        return state, None\n",
    "\n",
    "class CallRead(Call):\n",
    "    def __init__(self, threadno, arg : int, start, end):\n",
    "        self.arg = arg\n",
    "        super().__init__(threadno, \"read\", [arg], start, end)\n",
    "\n",
    "    def exec(self, state):\n",
    "        if not isinstance(state, StateIO):\n",
    "            raise Exception(\"State is not of type StateIO\")\n",
    "        if state.value is None:\n",
    "            return\n",
    "        if state.value != self.arg:\n",
    "            return\n",
    "        return state, None\n",
    "    \n",
    "class CallCAS(Call):\n",
    "    def __init__(self, threadno, compare: int, swap: int, cond: bool, start, end):\n",
    "        self.cond = cond\n",
    "        self.compare = compare\n",
    "        self.swap = swap\n",
    "        super().__init__(threadno, f\"cas\", [compare, swap, cond], start, end)\n",
    "    \n",
    "    def __str__(self):\n",
    "        if self.cond:\n",
    "            return f\"{self.compare} -> {self.swap}\"\n",
    "        else:\n",
    "            return f\"!{self.compare}\"\n",
    "        \n",
    "    def exec(self, state):\n",
    "        if not isinstance(state, StateIO):\n",
    "            raise Exception(\"State is not of type StateIO\")\n",
    "        if state.value is None:\n",
    "            return\n",
    "       # if cond is True, the value must be equal to compare\n",
    "        if self.cond:\n",
    "            if state.value != self.compare:\n",
    "                return\n",
    "            state.value = self.swap\n",
    "            return state, None\n",
    "        # if cond is False, the value must be different from compare\n",
    "        else:\n",
    "            if state.value == self.compare:\n",
    "                return\n",
    "            return state, None"
   ]
  },
  {
   "cell_type": "code",
   "execution_count": 29,
   "metadata": {},
   "outputs": [
    {
     "data": {
      "application/javascript": "\n            setTimeout(function() {\n                var nbb_cell_id = 29;\n                var nbb_unformatted_code = \"def linearize_io(spec: List[Call]):\\n    sort_by_var: DefaultDict[int, List[Call]] = defaultdict(list)\\n    false_cases: List[CallCAS] = []\\n    true_cases: List[CallCAS] = []\\n    for c in spec:\\n        if isinstance(c, (CallWrite, CallRead)):\\n            sort_by_var[c.arg].append(c)\\n        elif isinstance(c, CallCAS) and c.cond:\\n            sort_by_var[c.swap].append(c)\\n            sort_by_var[c.compare].append(c)\\n            true_cases.append(c)\\n        elif isinstance(c, CallCAS) and not c.cond:\\n            false_cases.append(c)\\n\\n    # basic checks\\n    writes: Dict[int, CallWrite | CallCAS] = {}\\n    for var, var_class in sort_by_var.items():\\n        # check that there is exactly one write for each variable\\n        # (both write and cas can write)\\n        if sum([isinstance(c, CallWrite) or (isinstance(c, CallCAS) and c.cond and c.swap == var) for c in var_class]) != 1:\\n            return\\n           \\n        # check that the the first read doesn't end before the write starts\\n        write = next(c for _, c in enumerate(var_class) if isinstance(c, CallWrite)\\n                     or (isinstance(c, CallCAS) and c.cond and c.swap == var))\\n        writes[var] = write\\n\\n        if not all(read.end > write.start for read in var_class if not (isinstance(read, CallWrite) or (isinstance(read, CallCAS) and read.cond and read.swap == var))):\\n            return\\n        \\n\\n    # make intervals from first return of any operation (read or write) to the last call of any operation (read or write\\n    intervals: Dict[int, I] = {}\\n    for var, var_class in sort_by_var.items():\\n        i1 = min(c.end for c in var_class)\\n        i2 = max(c.start for c in var_class)\\n        if i1 < i2:\\n            # No write/read happens in the interval\\n            intervals[var] = I(i1, i2)\\n        else:\\n            intervals[var] = I(i2, i1, True)\\n\\n    # check that there are no loops, ex 1 -> 2, 2 -> 1\\n\\n    from linearize_io_helper import has_loop\\n    if has_loop(true_cases):\\n        return\\n\\n     # In a linearized history, operations on the same variable happen in a row. So we need to understand the order between variables. We can do this by pairing them in blocks, where variables in the same block mean that without cas, the variables can be linearized in any order.\\n\\n    # blocks = get_io_blocks(spec)\\n    graph: DefaultDict[int, List[int]] = defaultdict(list)\\n\\n    for var_i, interval_i in intervals.items():\\n        i1, i2 = interval_i.start, interval_i.end\\n        for var_j, interval_j in intervals.items():\\n            j1, j2 = interval_j.start, interval_j.end\\n            if not interval_i.reversed and not interval_j.reversed:\\n                continue\\n            elif not interval_i.reversed:\\n                if j1 < i1 and j2 > i2:\\n                    graph[var_i].append(var_j)\\n            elif not interval_j.reversed:\\n                if i1 < j1 and i2 > j2:\\n                    graph[var_i].append(var_j)\\n            else:\\n                if i1 < j2 < i2 or j1 < i2 < j2:\\n                    graph[var_i].append(var_j)\\n\\n    for key in sort_by_var:\\n        bisect.insort(graph[key], key)\\n\\n    blocks: List[List[int]] = []\\n    for block in graph.values():\\n        if block not in blocks:\\n            blocks.append(block)\\n\\n    blocks.sort(key=lambda x: max(intervals[v].start for v in x))\\n\\n\\n\\n    for var, var_class in sort_by_var.items():\\n        same_var_interval = intervals[var]\\n        last_call = same_var_interval.start if same_var_interval.reversed else same_var_interval.end\\n        first_return = same_var_interval.end if same_var_interval.reversed else same_var_interval.start\\n        for i_var, interval in intervals.items():\\n            if i_var == var or interval.reversed:\\n                continue\\n            # observation 1\\n            if first_return <= interval.end and last_call >= interval.start:\\n                return \\n            # observation 2\\n            if last_call >= interval.start and first_return <= interval.end:\\n                return\\n\\n   \\n    available_writes: Set[CallWrite | CallCAS] = set()\\n    block_i = 0\\n    captured_write = None\\n    false_cases.sort(key=lambda x: x.start)\\n\\n    for false_cas in false_cases:\\n        while block_i < len(blocks):\\n\\n            # 1. clear the available_writes if we are in a new block\\n            # 2. add the writes from the current block that started before the false cas return \\n            # 3. we advance to the next block if false cas start is after the last write in the current block\\n\\n            block = blocks[block_i]\\n            writes_in_block = {writes[var] for var in block if writes[var].start < false_cas.end}\\n\\n            if min((min(c.end for c in sort_by_var[var]) for var in block)) < false_cas.start:\\n                available_writes.clear()\\n                captured_write = None\\n           \\n            available_writes.update(writes_in_block)\\n                \\n            if len(writes_in_block) == 0:\\n                block_i -= 1\\n                break\\n            elif len(writes_in_block) == len(block):\\n                block_i += 1\\n            else:\\n                break\\n\\n        if false_cas.compare in writes:\\n            captured_write = writes[false_cas.compare]\\n            available_writes.discard(captured_write)\\n\\n        if not available_writes:\\n            return false_cas.compare\\n\\n        cas_interval: Optional[I] = intervals.get(false_cas.compare)\\n        if cas_interval and not cas_interval.reversed:\\n            flag = False\\n\\n            if false_cas.end > cas_interval.end:\\n                for w in available_writes:\\n                    if w.end > cas_interval.end:\\n                        flag = True\\n\\n            if false_cas.start < cas_interval.start:\\n                for w in available_writes:\\n                    if w.start < cas_interval.start:\\n                        flag = True\\n\\n            if not flag:\\n                return false_cas.compare\\n\\n        else:\\n            latest_diff_w_ret = max(_w.end for _w in available_writes)\\n\\n            if cas_interval is not None:\\n                i1, i2 = cas_interval.start, cas_interval.end\\n            else:\\n                i1 = i2 = 0\\n            \\n            if false_cas.start > i2 and latest_diff_w_ret < i1:\\n                return false_cas.compare\\n            \\n        if captured_write is not None and min(c.end for c in sort_by_var[captured_write.args[0]]) > false_cas.start:\\n            available_writes.add(captured_write)\\n\\n        captured_write = None\\n    # if we get here, then the history is linearizable.\\n\\n    return True\";\n                var nbb_formatted_code = \"def linearize_io(spec: List[Call]):\\n    sort_by_var: DefaultDict[int, List[Call]] = defaultdict(list)\\n    false_cases: List[CallCAS] = []\\n    true_cases: List[CallCAS] = []\\n    for c in spec:\\n        if isinstance(c, (CallWrite, CallRead)):\\n            sort_by_var[c.arg].append(c)\\n        elif isinstance(c, CallCAS) and c.cond:\\n            sort_by_var[c.swap].append(c)\\n            sort_by_var[c.compare].append(c)\\n            true_cases.append(c)\\n        elif isinstance(c, CallCAS) and not c.cond:\\n            false_cases.append(c)\\n\\n    # basic checks\\n    writes: Dict[int, CallWrite | CallCAS] = {}\\n    for var, var_class in sort_by_var.items():\\n        # check that there is exactly one write for each variable\\n        # (both write and cas can write)\\n        if (\\n            sum(\\n                [\\n                    isinstance(c, CallWrite)\\n                    or (isinstance(c, CallCAS) and c.cond and c.swap == var)\\n                    for c in var_class\\n                ]\\n            )\\n            != 1\\n        ):\\n            return\\n\\n        # check that the the first read doesn't end before the write starts\\n        write = next(\\n            c\\n            for _, c in enumerate(var_class)\\n            if isinstance(c, CallWrite)\\n            or (isinstance(c, CallCAS) and c.cond and c.swap == var)\\n        )\\n        writes[var] = write\\n\\n        if not all(\\n            read.end > write.start\\n            for read in var_class\\n            if not (\\n                isinstance(read, CallWrite)\\n                or (isinstance(read, CallCAS) and read.cond and read.swap == var)\\n            )\\n        ):\\n            return\\n\\n    # make intervals from first return of any operation (read or write) to the last call of any operation (read or write\\n    intervals: Dict[int, I] = {}\\n    for var, var_class in sort_by_var.items():\\n        i1 = min(c.end for c in var_class)\\n        i2 = max(c.start for c in var_class)\\n        if i1 < i2:\\n            # No write/read happens in the interval\\n            intervals[var] = I(i1, i2)\\n        else:\\n            intervals[var] = I(i2, i1, True)\\n\\n    # check that there are no loops, ex 1 -> 2, 2 -> 1\\n\\n    from linearize_io_helper import has_loop\\n\\n    if has_loop(true_cases):\\n        return\\n\\n    # In a linearized history, operations on the same variable happen in a row. So we need to understand the order between variables. We can do this by pairing them in blocks, where variables in the same block mean that without cas, the variables can be linearized in any order.\\n\\n    # blocks = get_io_blocks(spec)\\n    graph: DefaultDict[int, List[int]] = defaultdict(list)\\n\\n    for var_i, interval_i in intervals.items():\\n        i1, i2 = interval_i.start, interval_i.end\\n        for var_j, interval_j in intervals.items():\\n            j1, j2 = interval_j.start, interval_j.end\\n            if not interval_i.reversed and not interval_j.reversed:\\n                continue\\n            elif not interval_i.reversed:\\n                if j1 < i1 and j2 > i2:\\n                    graph[var_i].append(var_j)\\n            elif not interval_j.reversed:\\n                if i1 < j1 and i2 > j2:\\n                    graph[var_i].append(var_j)\\n            else:\\n                if i1 < j2 < i2 or j1 < i2 < j2:\\n                    graph[var_i].append(var_j)\\n\\n    for key in sort_by_var:\\n        bisect.insort(graph[key], key)\\n\\n    blocks: List[List[int]] = []\\n    for block in graph.values():\\n        if block not in blocks:\\n            blocks.append(block)\\n\\n    blocks.sort(key=lambda x: max(intervals[v].start for v in x))\\n\\n    for var, var_class in sort_by_var.items():\\n        same_var_interval = intervals[var]\\n        last_call = (\\n            same_var_interval.start\\n            if same_var_interval.reversed\\n            else same_var_interval.end\\n        )\\n        first_return = (\\n            same_var_interval.end\\n            if same_var_interval.reversed\\n            else same_var_interval.start\\n        )\\n        for i_var, interval in intervals.items():\\n            if i_var == var or interval.reversed:\\n                continue\\n            # observation 1\\n            if first_return <= interval.end and last_call >= interval.start:\\n                return\\n            # observation 2\\n            if last_call >= interval.start and first_return <= interval.end:\\n                return\\n\\n    available_writes: Set[CallWrite | CallCAS] = set()\\n    block_i = 0\\n    captured_write = None\\n    false_cases.sort(key=lambda x: x.start)\\n\\n    for false_cas in false_cases:\\n        while block_i < len(blocks):\\n            # 1. clear the available_writes if we are in a new block\\n            # 2. add the writes from the current block that started before the false cas return\\n            # 3. we advance to the next block if false cas start is after the last write in the current block\\n\\n            block = blocks[block_i]\\n            writes_in_block = {\\n                writes[var] for var in block if writes[var].start < false_cas.end\\n            }\\n\\n            if (\\n                min((min(c.end for c in sort_by_var[var]) for var in block))\\n                < false_cas.start\\n            ):\\n                available_writes.clear()\\n                captured_write = None\\n\\n            available_writes.update(writes_in_block)\\n\\n            if len(writes_in_block) == 0:\\n                block_i -= 1\\n                break\\n            elif len(writes_in_block) == len(block):\\n                block_i += 1\\n            else:\\n                break\\n\\n        if false_cas.compare in writes:\\n            captured_write = writes[false_cas.compare]\\n            available_writes.discard(captured_write)\\n\\n        if not available_writes:\\n            return false_cas.compare\\n\\n        cas_interval: Optional[I] = intervals.get(false_cas.compare)\\n        if cas_interval and not cas_interval.reversed:\\n            flag = False\\n\\n            if false_cas.end > cas_interval.end:\\n                for w in available_writes:\\n                    if w.end > cas_interval.end:\\n                        flag = True\\n\\n            if false_cas.start < cas_interval.start:\\n                for w in available_writes:\\n                    if w.start < cas_interval.start:\\n                        flag = True\\n\\n            if not flag:\\n                return false_cas.compare\\n\\n        else:\\n            latest_diff_w_ret = max(_w.end for _w in available_writes)\\n\\n            if cas_interval is not None:\\n                i1, i2 = cas_interval.start, cas_interval.end\\n            else:\\n                i1 = i2 = 0\\n\\n            if false_cas.start > i2 and latest_diff_w_ret < i1:\\n                return false_cas.compare\\n\\n        if (\\n            captured_write is not None\\n            and min(c.end for c in sort_by_var[captured_write.args[0]])\\n            > false_cas.start\\n        ):\\n            available_writes.add(captured_write)\\n\\n        captured_write = None\\n    # if we get here, then the history is linearizable.\\n\\n    return True\";\n                var nbb_cells = Jupyter.notebook.get_cells();\n                for (var i = 0; i < nbb_cells.length; ++i) {\n                    if (nbb_cells[i].input_prompt_number == nbb_cell_id) {\n                        if (nbb_cells[i].get_text() == nbb_unformatted_code) {\n                             nbb_cells[i].set_text(nbb_formatted_code);\n                        }\n                        break;\n                    }\n                }\n            }, 500);\n            ",
      "text/plain": [
       "<IPython.core.display.Javascript object>"
      ]
     },
     "metadata": {},
     "output_type": "display_data"
    }
   ],
   "source": [
    "def linearize_io(spec: List[Call]):\n",
    "    sort_by_var: DefaultDict[int, List[Call]] = defaultdict(list)\n",
    "    false_cases: List[CallCAS] = []\n",
    "    true_cases: List[CallCAS] = []\n",
    "    for c in spec:\n",
    "        if isinstance(c, (CallWrite, CallRead)):\n",
    "            sort_by_var[c.arg].append(c)\n",
    "        elif isinstance(c, CallCAS) and c.cond:\n",
    "            sort_by_var[c.swap].append(c)\n",
    "            sort_by_var[c.compare].append(c)\n",
    "            true_cases.append(c)\n",
    "        elif isinstance(c, CallCAS) and not c.cond:\n",
    "            false_cases.append(c)\n",
    "\n",
    "    # basic checks\n",
    "    writes: Dict[int, CallWrite | CallCAS] = {}\n",
    "    for var, var_class in sort_by_var.items():\n",
    "        # check that there is exactly one write for each variable\n",
    "        # (both write and cas can write)\n",
    "        if sum([isinstance(c, CallWrite) or (isinstance(c, CallCAS) and c.cond and c.swap == var) for c in var_class]) != 1:\n",
    "            return\n",
    "           \n",
    "        # check that the the first read doesn't end before the write starts\n",
    "        write = next(c for _, c in enumerate(var_class) if isinstance(c, CallWrite)\n",
    "                     or (isinstance(c, CallCAS) and c.cond and c.swap == var))\n",
    "        writes[var] = write\n",
    "\n",
    "        if not all(read.end > write.start for read in var_class if not (isinstance(read, CallWrite) or (isinstance(read, CallCAS) and read.cond and read.swap == var))):\n",
    "            return\n",
    "        \n",
    "\n",
    "    # make intervals from first return of any operation (read or write) to the last call of any operation (read or write\n",
    "    intervals: Dict[int, I] = {}\n",
    "    for var, var_class in sort_by_var.items():\n",
    "        i1 = min(c.end for c in var_class)\n",
    "        i2 = max(c.start for c in var_class)\n",
    "        if i1 < i2:\n",
    "            # No write/read happens in the interval\n",
    "            intervals[var] = I(i1, i2)\n",
    "        else:\n",
    "            intervals[var] = I(i2, i1, True)\n",
    "\n",
    "    # check that there are no loops, ex 1 -> 2, 2 -> 1\n",
    "\n",
    "    from linearize_io_helper import has_loop\n",
    "    if has_loop(true_cases):\n",
    "        return\n",
    "\n",
    "     # In a linearized history, operations on the same variable happen in a row. So we need to understand the order between variables. We can do this by pairing them in blocks, where variables in the same block mean that without cas, the variables can be linearized in any order.\n",
    "\n",
    "    # blocks = get_io_blocks(spec)\n",
    "    graph: DefaultDict[int, List[int]] = defaultdict(list)\n",
    "\n",
    "    for var_i, interval_i in intervals.items():\n",
    "        i1, i2 = interval_i.start, interval_i.end\n",
    "        for var_j, interval_j in intervals.items():\n",
    "            j1, j2 = interval_j.start, interval_j.end\n",
    "            if not interval_i.reversed and not interval_j.reversed:\n",
    "                continue\n",
    "            elif not interval_i.reversed:\n",
    "                if j1 < i1 and j2 > i2:\n",
    "                    graph[var_i].append(var_j)\n",
    "            elif not interval_j.reversed:\n",
    "                if i1 < j1 and i2 > j2:\n",
    "                    graph[var_i].append(var_j)\n",
    "            else:\n",
    "                if i1 < j2 < i2 or j1 < i2 < j2:\n",
    "                    graph[var_i].append(var_j)\n",
    "\n",
    "    for key in sort_by_var:\n",
    "        bisect.insort(graph[key], key)\n",
    "\n",
    "    blocks: List[List[int]] = []\n",
    "    for block in graph.values():\n",
    "        if block not in blocks:\n",
    "            blocks.append(block)\n",
    "\n",
    "    blocks.sort(key=lambda x: max(intervals[v].start for v in x))\n",
    "\n",
    "\n",
    "\n",
    "    for var, var_class in sort_by_var.items():\n",
    "        same_var_interval = intervals[var]\n",
    "        last_call = same_var_interval.start if same_var_interval.reversed else same_var_interval.end\n",
    "        first_return = same_var_interval.end if same_var_interval.reversed else same_var_interval.start\n",
    "        for i_var, interval in intervals.items():\n",
    "            if i_var == var or interval.reversed:\n",
    "                continue\n",
    "            # observation 1\n",
    "            if first_return <= interval.end and last_call >= interval.start:\n",
    "                return \n",
    "            # observation 2\n",
    "            if last_call >= interval.start and first_return <= interval.end:\n",
    "                return\n",
    "\n",
    "   \n",
    "    available_writes: Set[CallWrite | CallCAS] = set()\n",
    "    block_i = 0\n",
    "    captured_write = None\n",
    "    false_cases.sort(key=lambda x: x.start)\n",
    "\n",
    "    for false_cas in false_cases:\n",
    "        while block_i < len(blocks):\n",
    "\n",
    "            # 1. clear the available_writes if we are in a new block\n",
    "            # 2. add the writes from the current block that started before the false cas return \n",
    "            # 3. we advance to the next block if false cas start is after the last write in the current block\n",
    "\n",
    "            block = blocks[block_i]\n",
    "            writes_in_block = {writes[var] for var in block if writes[var].start < false_cas.end}\n",
    "\n",
    "            if min((min(c.end for c in sort_by_var[var]) for var in block)) < false_cas.start:\n",
    "                available_writes.clear()\n",
    "                captured_write = None\n",
    "           \n",
    "            available_writes.update(writes_in_block)\n",
    "                \n",
    "            if len(writes_in_block) == 0:\n",
    "                block_i -= 1\n",
    "                break\n",
    "            elif len(writes_in_block) == len(block):\n",
    "                block_i += 1\n",
    "            else:\n",
    "                break\n",
    "\n",
    "        if false_cas.compare in writes:\n",
    "            captured_write = writes[false_cas.compare]\n",
    "            available_writes.discard(captured_write)\n",
    "\n",
    "        if not available_writes:\n",
    "            return false_cas.compare\n",
    "\n",
    "        cas_interval: Optional[I] = intervals.get(false_cas.compare)\n",
    "        if cas_interval and not cas_interval.reversed:\n",
    "            flag = False\n",
    "\n",
    "            if false_cas.end > cas_interval.end:\n",
    "                for w in available_writes:\n",
    "                    if w.end > cas_interval.end:\n",
    "                        flag = True\n",
    "\n",
    "            if false_cas.start < cas_interval.start:\n",
    "                for w in available_writes:\n",
    "                    if w.start < cas_interval.start:\n",
    "                        flag = True\n",
    "\n",
    "            if not flag:\n",
    "                return false_cas.compare\n",
    "\n",
    "        else:\n",
    "            latest_diff_w_ret = max(_w.end for _w in available_writes)\n",
    "\n",
    "            if cas_interval is not None:\n",
    "                i1, i2 = cas_interval.start, cas_interval.end\n",
    "            else:\n",
    "                i1 = i2 = 0\n",
    "            \n",
    "            if false_cas.start > i2 and latest_diff_w_ret < i1:\n",
    "                return false_cas.compare\n",
    "            \n",
    "        if captured_write is not None and min(c.end for c in sort_by_var[captured_write.args[0]]) > false_cas.start:\n",
    "            available_writes.add(captured_write)\n",
    "\n",
    "        captured_write = None\n",
    "    # if we get here, then the history is linearizable.\n",
    "\n",
    "    return True\n"
   ]
  },
  {
   "cell_type": "code",
   "execution_count": 11,
   "metadata": {},
   "outputs": [
    {
     "data": {
      "application/javascript": "\n            setTimeout(function() {\n                var nbb_cell_id = 11;\n                var nbb_unformatted_code = \"def generate_random_spec(n : int, m : int, p : int):\\n    \\\"\\\"\\\"\\n    n is the number of threads\\\\n\\n    m is the number of operations\\\\n\\n    p is the number of variables\\\\n\\n    the only constraint is that operations cannot overlap in time on the same thread\\n    \\\"\\\"\\\"\\n    \\n    ops = [\\\"io\\\"]\\n    var_dict : DefaultDict[Any, bool] = defaultdict(lambda: False)\\n\\n    threads : DefaultDict[int, List[Call]] = defaultdict(list)\\n    for _ in range(m):\\n        thread = random.randint(1, n)\\n        op = random.choice(ops)\\n        start: float\\n        end: float\\n        if len(threads[thread]) == 0:\\n            start = 0\\n        else:\\n            start = threads[thread][-1].end \\n\\n        start += random.randint(0, 5) + random.random()\\n        end = start + random.randint(1, 10) + random.random()\\n        arg = random.randint(0, p)\\n        arg2 = arg\\n        if op == \\\"cas\\\":\\n            while arg == arg2:\\n                arg2 = random.randint(0, p)\\n        if op == \\\"io\\\" and var_dict[arg]:\\n            threads[thread].append(\\n                CallRead(\\n                    threadno=thread, \\n                    arg=arg,\\n                    start=start,\\n                    end=end))\\n        elif op == \\\"io\\\" and not var_dict[arg]:\\n            var_dict[arg] = True\\n            threads[thread].append(\\n                CallWrite(\\n                    threadno=thread, \\n                    arg=arg,\\n                    start=start,\\n                    end=end))\\n        elif op == \\\"cas\\\" and var_dict[arg]:\\n            continue\\n            threads[thread].append(\\n                CallCAS(\\n                    threadno=thread,\\n                    compare=arg2,\\n                    swap=arg,\\n                    cond=False,\\n                    start=start,\\n                    end=end))\\n        elif op == \\\"cas\\\" and not var_dict[arg] and not var_dict[arg2]:\\n            var_dict[arg] = True\\n            var_dict[arg2] = True\\n            threads[thread].append(\\n                CallCAS(\\n                    threadno=thread,\\n                    compare=arg2,\\n                    swap=arg,\\n                    cond=True,\\n                    start=start,\\n                    end=end))\\n        else:\\n            raise NotImplementedError(f\\\"Operation {op} not implemented\\\")\\n    return [c for thread in threads.values() for c in thread]\";\n                var nbb_formatted_code = \"def generate_random_spec(n: int, m: int, p: int):\\n    \\\"\\\"\\\"\\n    n is the number of threads\\\\n\\n    m is the number of operations\\\\n\\n    p is the number of variables\\\\n\\n    the only constraint is that operations cannot overlap in time on the same thread\\n    \\\"\\\"\\\"\\n\\n    ops = [\\\"io\\\"]\\n    var_dict: DefaultDict[Any, bool] = defaultdict(lambda: False)\\n\\n    threads: DefaultDict[int, List[Call]] = defaultdict(list)\\n    for _ in range(m):\\n        thread = random.randint(1, n)\\n        op = random.choice(ops)\\n        start: float\\n        end: float\\n        if len(threads[thread]) == 0:\\n            start = 0\\n        else:\\n            start = threads[thread][-1].end\\n\\n        start += random.randint(0, 5) + random.random()\\n        end = start + random.randint(1, 10) + random.random()\\n        arg = random.randint(0, p)\\n        arg2 = arg\\n        if op == \\\"cas\\\":\\n            while arg == arg2:\\n                arg2 = random.randint(0, p)\\n        if op == \\\"io\\\" and var_dict[arg]:\\n            threads[thread].append(\\n                CallRead(threadno=thread, arg=arg, start=start, end=end)\\n            )\\n        elif op == \\\"io\\\" and not var_dict[arg]:\\n            var_dict[arg] = True\\n            threads[thread].append(\\n                CallWrite(threadno=thread, arg=arg, start=start, end=end)\\n            )\\n        elif op == \\\"cas\\\" and var_dict[arg]:\\n            continue\\n            threads[thread].append(\\n                CallCAS(\\n                    threadno=thread,\\n                    compare=arg2,\\n                    swap=arg,\\n                    cond=False,\\n                    start=start,\\n                    end=end,\\n                )\\n            )\\n        elif op == \\\"cas\\\" and not var_dict[arg] and not var_dict[arg2]:\\n            var_dict[arg] = True\\n            var_dict[arg2] = True\\n            threads[thread].append(\\n                CallCAS(\\n                    threadno=thread,\\n                    compare=arg2,\\n                    swap=arg,\\n                    cond=True,\\n                    start=start,\\n                    end=end,\\n                )\\n            )\\n        else:\\n            raise NotImplementedError(f\\\"Operation {op} not implemented\\\")\\n    return [c for thread in threads.values() for c in thread]\";\n                var nbb_cells = Jupyter.notebook.get_cells();\n                for (var i = 0; i < nbb_cells.length; ++i) {\n                    if (nbb_cells[i].input_prompt_number == nbb_cell_id) {\n                        if (nbb_cells[i].get_text() == nbb_unformatted_code) {\n                             nbb_cells[i].set_text(nbb_formatted_code);\n                        }\n                        break;\n                    }\n                }\n            }, 500);\n            ",
      "text/plain": [
       "<IPython.core.display.Javascript object>"
      ]
     },
     "metadata": {},
     "output_type": "display_data"
    }
   ],
   "source": [
    "def generate_random_spec(n : int, m : int, p : int):\n",
    "    \"\"\"\n",
    "    n is the number of threads\\n\n",
    "    m is the number of operations\\n\n",
    "    p is the number of variables\\n\n",
    "    the only constraint is that operations cannot overlap in time on the same thread\n",
    "    \"\"\"\n",
    "    \n",
    "    ops = [\"io\"]\n",
    "    var_dict : DefaultDict[Any, bool] = defaultdict(lambda: False)\n",
    "\n",
    "    threads : DefaultDict[int, List[Call]] = defaultdict(list)\n",
    "    for _ in range(m):\n",
    "        thread = random.randint(1, n)\n",
    "        op = random.choice(ops)\n",
    "        start: float\n",
    "        end: float\n",
    "        if len(threads[thread]) == 0:\n",
    "            start = 0\n",
    "        else:\n",
    "            start = threads[thread][-1].end \n",
    "\n",
    "        start += random.randint(0, 5) + random.random()\n",
    "        end = start + random.randint(1, 10) + random.random()\n",
    "        arg = random.randint(0, p)\n",
    "        arg2 = arg\n",
    "        if op == \"cas\":\n",
    "            while arg == arg2:\n",
    "                arg2 = random.randint(0, p)\n",
    "        if op == \"io\" and var_dict[arg]:\n",
    "            threads[thread].append(\n",
    "                CallRead(\n",
    "                    threadno=thread, \n",
    "                    arg=arg,\n",
    "                    start=start,\n",
    "                    end=end))\n",
    "        elif op == \"io\" and not var_dict[arg]:\n",
    "            var_dict[arg] = True\n",
    "            threads[thread].append(\n",
    "                CallWrite(\n",
    "                    threadno=thread, \n",
    "                    arg=arg,\n",
    "                    start=start,\n",
    "                    end=end))\n",
    "        elif op == \"cas\" and var_dict[arg]:\n",
    "            continue\n",
    "            threads[thread].append(\n",
    "                CallCAS(\n",
    "                    threadno=thread,\n",
    "                    compare=arg2,\n",
    "                    swap=arg,\n",
    "                    cond=False,\n",
    "                    start=start,\n",
    "                    end=end))\n",
    "        elif op == \"cas\" and not var_dict[arg] and not var_dict[arg2]:\n",
    "            var_dict[arg] = True\n",
    "            var_dict[arg2] = True\n",
    "            threads[thread].append(\n",
    "                CallCAS(\n",
    "                    threadno=thread,\n",
    "                    compare=arg2,\n",
    "                    swap=arg,\n",
    "                    cond=True,\n",
    "                    start=start,\n",
    "                    end=end))\n",
    "        else:\n",
    "            raise NotImplementedError(f\"Operation {op} not implemented\")\n",
    "    return [c for thread in threads.values() for c in thread]"
   ]
  },
  {
   "cell_type": "code",
   "execution_count": 12,
   "metadata": {},
   "outputs": [
    {
     "data": {
      "application/javascript": "\n            setTimeout(function() {\n                var nbb_cell_id = 12;\n                var nbb_unformatted_code = \"# generate_random_spec(3, 7, 5, [CallWrite, CallRead, CallCAS])\\n# only 1.22% of examples are linearizable, so lets create our own\\n\\n# get the % of linearizable examples\\n\\n# n = 10000\\n# successful = 0\\n# for i in range(n):\\n#     spec = generate_random_spec(3, 7, 5, [CallWrite, CallRead, CallCAS])\\n#     if linearize_generic(spec, StateIO()):\\n#         successful += 1\\n\\n# print(f\\\"{successful/n*100}% of examples are linearizable\\\")\\n\\n# filename = \\\"testio.pkl\\\"\\n# total = 5000\\n# success_percentage = 0.5\\n# success = []\\n# fail = []\\n# loading = tqdm(total=total)\\n# while loading.n < loading.total:\\n#     spec = generate_random_spec(3,8,4)\\n#     # if there is not at least 2 cas operations, then we can't test the false case\\n#     # if len([c for c in spec if isinstance(c, CallCAS)]) < 1:\\n#     #     continue\\n#     if len([c for c in spec if isinstance(c, CallRead)]) < 3:\\n#         continue\\n#     if len(spec) < 8:\\n#         continue\\n#     sol = linearize_generic(spec, StateIO())\\n#     if sol is None and len(fail) < total * (1 - success_percentage):\\n#         fail.append(spec)\\n#         loading.update()\\n#     elif sol is not None and len(success) < total * success_percentage:\\n#         success.append(spec)\\n#         loading.update()\\n\\n# with open(filename, \\\"wb\\\") as f:\\n#     for spec in success:\\n#         pickle.dump((spec, True), f)\\n#     for spec in fail:\\n#         pickle.dump((spec, False), f)\";\n                var nbb_formatted_code = \"# generate_random_spec(3, 7, 5, [CallWrite, CallRead, CallCAS])\\n# only 1.22% of examples are linearizable, so lets create our own\\n\\n# get the % of linearizable examples\\n\\n# n = 10000\\n# successful = 0\\n# for i in range(n):\\n#     spec = generate_random_spec(3, 7, 5, [CallWrite, CallRead, CallCAS])\\n#     if linearize_generic(spec, StateIO()):\\n#         successful += 1\\n\\n# print(f\\\"{successful/n*100}% of examples are linearizable\\\")\\n\\n# filename = \\\"testio.pkl\\\"\\n# total = 5000\\n# success_percentage = 0.5\\n# success = []\\n# fail = []\\n# loading = tqdm(total=total)\\n# while loading.n < loading.total:\\n#     spec = generate_random_spec(3,8,4)\\n#     # if there is not at least 2 cas operations, then we can't test the false case\\n#     # if len([c for c in spec if isinstance(c, CallCAS)]) < 1:\\n#     #     continue\\n#     if len([c for c in spec if isinstance(c, CallRead)]) < 3:\\n#         continue\\n#     if len(spec) < 8:\\n#         continue\\n#     sol = linearize_generic(spec, StateIO())\\n#     if sol is None and len(fail) < total * (1 - success_percentage):\\n#         fail.append(spec)\\n#         loading.update()\\n#     elif sol is not None and len(success) < total * success_percentage:\\n#         success.append(spec)\\n#         loading.update()\\n\\n# with open(filename, \\\"wb\\\") as f:\\n#     for spec in success:\\n#         pickle.dump((spec, True), f)\\n#     for spec in fail:\\n#         pickle.dump((spec, False), f)\";\n                var nbb_cells = Jupyter.notebook.get_cells();\n                for (var i = 0; i < nbb_cells.length; ++i) {\n                    if (nbb_cells[i].input_prompt_number == nbb_cell_id) {\n                        if (nbb_cells[i].get_text() == nbb_unformatted_code) {\n                             nbb_cells[i].set_text(nbb_formatted_code);\n                        }\n                        break;\n                    }\n                }\n            }, 500);\n            ",
      "text/plain": [
       "<IPython.core.display.Javascript object>"
      ]
     },
     "metadata": {},
     "output_type": "display_data"
    }
   ],
   "source": [
    "# generate_random_spec(3, 7, 5, [CallWrite, CallRead, CallCAS])\n",
    "# only 1.22% of examples are linearizable, so lets create our own\n",
    "\n",
    "# get the % of linearizable examples\n",
    "\n",
    "# n = 10000\n",
    "# successful = 0\n",
    "# for i in range(n):\n",
    "#     spec = generate_random_spec(3, 7, 5, [CallWrite, CallRead, CallCAS])\n",
    "#     if linearize_generic(spec, StateIO()):\n",
    "#         successful += 1\n",
    "\n",
    "# print(f\"{successful/n*100}% of examples are linearizable\")\n",
    "\n",
    "# filename = \"testio.pkl\"\n",
    "# total = 5000\n",
    "# success_percentage = 0.5\n",
    "# success = []\n",
    "# fail = []\n",
    "# loading = tqdm(total=total)\n",
    "# while loading.n < loading.total:\n",
    "#     spec = generate_random_spec(3,8,4)\n",
    "#     # if there is not at least 2 cas operations, then we can't test the false case\n",
    "#     # if len([c for c in spec if isinstance(c, CallCAS)]) < 1:\n",
    "#     #     continue\n",
    "#     if len([c for c in spec if isinstance(c, CallRead)]) < 3:\n",
    "#         continue\n",
    "#     if len(spec) < 8:\n",
    "#         continue\n",
    "#     sol = linearize_generic(spec, StateIO())\n",
    "#     if sol is None and len(fail) < total * (1 - success_percentage):\n",
    "#         fail.append(spec)\n",
    "#         loading.update()\n",
    "#     elif sol is not None and len(success) < total * success_percentage:\n",
    "#         success.append(spec)\n",
    "#         loading.update()\n",
    "\n",
    "# with open(filename, \"wb\") as f:\n",
    "#     for spec in success:\n",
    "#         pickle.dump((spec, True), f)\n",
    "#     for spec in fail:\n",
    "#         pickle.dump((spec, False), f)"
   ]
  },
  {
   "cell_type": "code",
   "execution_count": 13,
   "metadata": {},
   "outputs": [
    {
     "data": {
      "application/javascript": "\n            setTimeout(function() {\n                var nbb_cell_id = 13;\n                var nbb_unformatted_code = \"# 5k 50/50\\nwith open(\\\"testio.pkl\\\", \\\"rb\\\") as f:\\n    TESTIO = []\\n    while True:\\n        try:\\n            TESTIO.append(pickle.load(f))\\n        except EOFError:\\n            break\\n\\n# with open(\\\"testio10k.pkl\\\", \\\"rb\\\") as f:\\n#     TESTIO10K = []\\n#     while True:\\n#         try:\\n#             TESTIO10K.append(pickle.load(f))\\n#         except EOFError:\\n#             break\\n\\n# 5k 50/50\\nwith open(\\\"testcastrue.pkl\\\", \\\"rb\\\") as f:\\n    TESTCASTRUE = []\\n    while True:\\n        try:\\n            TESTCASTRUE.append(pickle.load(f))\\n        except EOFError:\\n            break\\n\\n# 50k 10/90\\nwith open(\\\"testcasfalse.pkl\\\", \\\"rb\\\") as f:\\n    TESTCASFALSE = []\\n    while True:\\n        try:\\n            TESTCASFALSE.append(pickle.load(f))\\n        except EOFError:\\n            break\\n\\n# with open(\\\"testcas1k.pkl\\\", \\\"rb\\\") as f:\\n#     TESTCAS1K = []\\n#     while True:\\n#         try:\\n#             TESTCAS1K.append(pickle.load(f))\\n#         except EOFError:\\n#             break\";\n                var nbb_formatted_code = \"# 5k 50/50\\nwith open(\\\"testio.pkl\\\", \\\"rb\\\") as f:\\n    TESTIO = []\\n    while True:\\n        try:\\n            TESTIO.append(pickle.load(f))\\n        except EOFError:\\n            break\\n\\n# with open(\\\"testio10k.pkl\\\", \\\"rb\\\") as f:\\n#     TESTIO10K = []\\n#     while True:\\n#         try:\\n#             TESTIO10K.append(pickle.load(f))\\n#         except EOFError:\\n#             break\\n\\n# 5k 50/50\\nwith open(\\\"testcastrue.pkl\\\", \\\"rb\\\") as f:\\n    TESTCASTRUE = []\\n    while True:\\n        try:\\n            TESTCASTRUE.append(pickle.load(f))\\n        except EOFError:\\n            break\\n\\n# 50k 10/90\\nwith open(\\\"testcasfalse.pkl\\\", \\\"rb\\\") as f:\\n    TESTCASFALSE = []\\n    while True:\\n        try:\\n            TESTCASFALSE.append(pickle.load(f))\\n        except EOFError:\\n            break\\n\\n# with open(\\\"testcas1k.pkl\\\", \\\"rb\\\") as f:\\n#     TESTCAS1K = []\\n#     while True:\\n#         try:\\n#             TESTCAS1K.append(pickle.load(f))\\n#         except EOFError:\\n#             break\";\n                var nbb_cells = Jupyter.notebook.get_cells();\n                for (var i = 0; i < nbb_cells.length; ++i) {\n                    if (nbb_cells[i].input_prompt_number == nbb_cell_id) {\n                        if (nbb_cells[i].get_text() == nbb_unformatted_code) {\n                             nbb_cells[i].set_text(nbb_formatted_code);\n                        }\n                        break;\n                    }\n                }\n            }, 500);\n            ",
      "text/plain": [
       "<IPython.core.display.Javascript object>"
      ]
     },
     "metadata": {},
     "output_type": "display_data"
    }
   ],
   "source": [
    "# 5k 50/50\n",
    "with open(\"testio.pkl\", \"rb\") as f:\n",
    "    TESTIO = []\n",
    "    while True:\n",
    "        try:\n",
    "            TESTIO.append(pickle.load(f))\n",
    "        except EOFError:\n",
    "            break\n",
    "\n",
    "# with open(\"testio10k.pkl\", \"rb\") as f:\n",
    "#     TESTIO10K = []\n",
    "#     while True:\n",
    "#         try:\n",
    "#             TESTIO10K.append(pickle.load(f))\n",
    "#         except EOFError:\n",
    "#             break\n",
    "\n",
    "# 5k 50/50\n",
    "with open(\"testcastrue.pkl\", \"rb\") as f:\n",
    "    TESTCASTRUE = []\n",
    "    while True:\n",
    "        try:\n",
    "            TESTCASTRUE.append(pickle.load(f))\n",
    "        except EOFError:\n",
    "            break\n",
    "\n",
    "# 50k 10/90\n",
    "with open(\"testcasfalse.pkl\", \"rb\") as f:\n",
    "    TESTCASFALSE = []\n",
    "    while True:\n",
    "        try:\n",
    "            TESTCASFALSE.append(pickle.load(f))\n",
    "        except EOFError:\n",
    "            break\n",
    "\n",
    "# with open(\"testcas1k.pkl\", \"rb\") as f:\n",
    "#     TESTCAS1K = []\n",
    "#     while True:\n",
    "#         try:\n",
    "#             TESTCAS1K.append(pickle.load(f))\n",
    "#         except EOFError:\n",
    "#             break"
   ]
  },
  {
   "cell_type": "code",
   "execution_count": 31,
   "metadata": {},
   "outputs": [
    {
     "name": "stderr",
     "output_type": "stream",
     "text": [
      "100%|██████████| 5000/5000 [00:00<00:00, 9997.80it/s] \n"
     ]
    },
    {
     "name": "stdout",
     "output_type": "stream",
     "text": [
      "Tests failed: 12\n",
      "First failed: [2959, 3706, 3835, 3988, 4160, 4387, 4507, 4568, 4647, 4674, 4709, 4768]\n"
     ]
    },
    {
     "data": {
      "application/javascript": "\n            setTimeout(function() {\n                var nbb_cell_id = 31;\n                var nbb_unformatted_code = \"# 200 hps\\n# for i in tqdm(range(len(testcas))):\\n#     spec = testcas[i]\\n#     try:\\n#         sol = linearize_generic(spec, StateIO()) \\n#         if sol is None:\\n#             assert linearize_io(spec) is None, f\\\"Test {i}: Solution {sol} is not None\\\"\\n#         else:\\n#             assert linearize_io(spec) in sol, f\\\"Test {i}: Solution {sol} does not contain {linearize_io(spec)}\\\"\\n            \\n#     except AssertionError as e:\\n#        if not (\\\"more than one write\\\" in str(e) or \\\\\\n#                \\\"no reads\\\" in str(e) or \\\\\\n#                 \\\"HACK\\\" in str(e)):\\n#             raise e\\n\\n# 100k+ hps\\ntestsample = TESTCASTRUE\\nwrong_test_no = []\\nfor i in tqdm(range(len(testsample))):\\n    testcase, res = copy.deepcopy(testsample[i])\\n    try:\\n        sol = linearize_io(testcase)\\n        s2 = (sol is True)\\n        if res ^ s2:\\n            wrong_test_no.append(i)\\n             \\n    except AssertionError as e:\\n            raise e\\n\\nprint(f\\\"Tests failed: {len(wrong_test_no)}\\\")\\nif len(wrong_test_no) == 0:\\n    print(\\\"All tests passed\\\")\\nelse:\\n    print(f\\\"First failed: {wrong_test_no}\\\")\";\n                var nbb_formatted_code = \"# 200 hps\\n# for i in tqdm(range(len(testcas))):\\n#     spec = testcas[i]\\n#     try:\\n#         sol = linearize_generic(spec, StateIO())\\n#         if sol is None:\\n#             assert linearize_io(spec) is None, f\\\"Test {i}: Solution {sol} is not None\\\"\\n#         else:\\n#             assert linearize_io(spec) in sol, f\\\"Test {i}: Solution {sol} does not contain {linearize_io(spec)}\\\"\\n\\n#     except AssertionError as e:\\n#        if not (\\\"more than one write\\\" in str(e) or \\\\\\n#                \\\"no reads\\\" in str(e) or \\\\\\n#                 \\\"HACK\\\" in str(e)):\\n#             raise e\\n\\n# 100k+ hps\\ntestsample = TESTCASTRUE\\nwrong_test_no = []\\nfor i in tqdm(range(len(testsample))):\\n    testcase, res = copy.deepcopy(testsample[i])\\n    try:\\n        sol = linearize_io(testcase)\\n        s2 = sol is True\\n        if res ^ s2:\\n            wrong_test_no.append(i)\\n\\n    except AssertionError as e:\\n        raise e\\n\\nprint(f\\\"Tests failed: {len(wrong_test_no)}\\\")\\nif len(wrong_test_no) == 0:\\n    print(\\\"All tests passed\\\")\\nelse:\\n    print(f\\\"First failed: {wrong_test_no}\\\")\";\n                var nbb_cells = Jupyter.notebook.get_cells();\n                for (var i = 0; i < nbb_cells.length; ++i) {\n                    if (nbb_cells[i].input_prompt_number == nbb_cell_id) {\n                        if (nbb_cells[i].get_text() == nbb_unformatted_code) {\n                             nbb_cells[i].set_text(nbb_formatted_code);\n                        }\n                        break;\n                    }\n                }\n            }, 500);\n            ",
      "text/plain": [
       "<IPython.core.display.Javascript object>"
      ]
     },
     "metadata": {},
     "output_type": "display_data"
    }
   ],
   "source": [
    "# 200 hps\n",
    "# for i in tqdm(range(len(testcas))):\n",
    "#     spec = testcas[i]\n",
    "#     try:\n",
    "#         sol = linearize_generic(spec, StateIO()) \n",
    "#         if sol is None:\n",
    "#             assert linearize_io(spec) is None, f\"Test {i}: Solution {sol} is not None\"\n",
    "#         else:\n",
    "#             assert linearize_io(spec) in sol, f\"Test {i}: Solution {sol} does not contain {linearize_io(spec)}\"\n",
    "            \n",
    "#     except AssertionError as e:\n",
    "#        if not (\"more than one write\" in str(e) or \\\n",
    "#                \"no reads\" in str(e) or \\\n",
    "#                 \"HACK\" in str(e)):\n",
    "#             raise e\n",
    "\n",
    "# 100k+ hps\n",
    "testsample = TESTCASTRUE\n",
    "wrong_test_no = []\n",
    "for i in tqdm(range(len(testsample))):\n",
    "    testcase, res = copy.deepcopy(testsample[i])\n",
    "    try:\n",
    "        sol = linearize_io(testcase)\n",
    "        s2 = (sol is True)\n",
    "        if res ^ s2:\n",
    "            wrong_test_no.append(i)\n",
    "             \n",
    "    except AssertionError as e:\n",
    "            raise e\n",
    "\n",
    "print(f\"Tests failed: {len(wrong_test_no)}\")\n",
    "if len(wrong_test_no) == 0:\n",
    "    print(\"All tests passed\")\n",
    "else:\n",
    "    print(f\"First failed: {wrong_test_no}\")\n"
   ]
  },
  {
   "cell_type": "code",
   "execution_count": 32,
   "metadata": {},
   "outputs": [
    {
     "name": "stdout",
     "output_type": "stream",
     "text": [
      "Testcase 2959 is False\n",
      "True\n"
     ]
    },
    {
     "data": {
      "image/png": "[encoded data removed]",
      "text/plain": [
       "<Figure size 1600x1000 with 1 Axes>"
      ]
     },
     "metadata": {},
     "output_type": "display_data"
    },
    {
     "data": {
      "application/javascript": "\n            setTimeout(function() {\n                var nbb_cell_id = 32;\n                var nbb_unformatted_code = \"i = 2959\\ntestcase, res = copy.deepcopy(testsample[i])\\nprint(f\\\"Testcase {i} is {res}\\\")\\nprint(linearize_io(testcase))\\nvisualize_history(testcase)\";\n                var nbb_formatted_code = \"i = 2959\\ntestcase, res = copy.deepcopy(testsample[i])\\nprint(f\\\"Testcase {i} is {res}\\\")\\nprint(linearize_io(testcase))\\nvisualize_history(testcase)\";\n                var nbb_cells = Jupyter.notebook.get_cells();\n                for (var i = 0; i < nbb_cells.length; ++i) {\n                    if (nbb_cells[i].input_prompt_number == nbb_cell_id) {\n                        if (nbb_cells[i].get_text() == nbb_unformatted_code) {\n                             nbb_cells[i].set_text(nbb_formatted_code);\n                        }\n                        break;\n                    }\n                }\n            }, 500);\n            ",
      "text/plain": [
       "<IPython.core.display.Javascript object>"
      ]
     },
     "metadata": {},
     "output_type": "display_data"
    }
   ],
   "source": [
    "i = 2959\n",
    "testcase, res = copy.deepcopy(testsample[i])\n",
    "print(f\"Testcase {i} is {res}\")\n",
    "print(linearize_io(testcase))\n",
    "visualize_history(testcase)\n",
    "\n"
   ]
  },
  {
   "cell_type": "code",
   "execution_count": 33,
   "metadata": {},
   "outputs": [
    {
     "data": {
      "application/javascript": "\n            setTimeout(function() {\n                var nbb_cell_id = 33;\n                var nbb_unformatted_code = \"if len(wrong_test_no) < 10:\\n    for wrong_test in wrong_test_no:\\n        testcase, res = copy.deepcopy(testsample[wrong_test])\\n        print(f\\\"Testcase {wrong_test} is {res}\\\")\\n        print(linearize_io(testcase))\\n        visualize_history(testcase)\";\n                var nbb_formatted_code = \"if len(wrong_test_no) < 10:\\n    for wrong_test in wrong_test_no:\\n        testcase, res = copy.deepcopy(testsample[wrong_test])\\n        print(f\\\"Testcase {wrong_test} is {res}\\\")\\n        print(linearize_io(testcase))\\n        visualize_history(testcase)\";\n                var nbb_cells = Jupyter.notebook.get_cells();\n                for (var i = 0; i < nbb_cells.length; ++i) {\n                    if (nbb_cells[i].input_prompt_number == nbb_cell_id) {\n                        if (nbb_cells[i].get_text() == nbb_unformatted_code) {\n                             nbb_cells[i].set_text(nbb_formatted_code);\n                        }\n                        break;\n                    }\n                }\n            }, 500);\n            ",
      "text/plain": [
       "<IPython.core.display.Javascript object>"
      ]
     },
     "metadata": {},
     "output_type": "display_data"
    }
   ],
   "source": [
    "if len(wrong_test_no) < 10:\n",
    "    for wrong_test in wrong_test_no:\n",
    "        testcase, res = copy.deepcopy(testsample[wrong_test])\n",
    "        print(f\"Testcase {wrong_test} is {res}\")\n",
    "        print(linearize_io(testcase))\n",
    "        visualize_history(testcase)"
   ]
  },
  {
   "cell_type": "code",
   "execution_count": null,
   "metadata": {},
   "outputs": [
    {
     "name": "stdout",
     "output_type": "stream",
     "text": [
      "True\n"
     ]
    },
    {
     "data": {
      "image/png": "[encoded data removed]",
      "text/plain": [
       "<Figure size 1600x1000 with 1 Axes>"
      ]
     },
     "metadata": {},
     "output_type": "display_data"
    },
    {
     "data": {
      "application/javascript": "\n            setTimeout(function() {\n                var nbb_cell_id = 14;\n                var nbb_unformatted_code = \"testcase, res = copy.deepcopy(testsample[i])\\n# visualize_history(testcase)\\nprint(linearize_io(testcase))\\nvisualize_history(testcase)\";\n                var nbb_formatted_code = \"testcase, res = copy.deepcopy(testsample[i])\\n# visualize_history(testcase)\\nprint(linearize_io(testcase))\\nvisualize_history(testcase)\";\n                var nbb_cells = Jupyter.notebook.get_cells();\n                for (var i = 0; i < nbb_cells.length; ++i) {\n                    if (nbb_cells[i].input_prompt_number == nbb_cell_id) {\n                        if (nbb_cells[i].get_text() == nbb_unformatted_code) {\n                             nbb_cells[i].set_text(nbb_formatted_code);\n                        }\n                        break;\n                    }\n                }\n            }, 500);\n            ",
      "text/plain": [
       "<IPython.core.display.Javascript object>"
      ]
     },
     "metadata": {},
     "output_type": "display_data"
    }
   ],
   "source": [
    "testcase, res = copy.deepcopy(testsample[i])\n",
    "\n",
    "print(linearize_io(testcase))\n",
    "visualize_history(testcase)\n"
   ]
  }
 ],
 "metadata": {
  "kernelspec": {
   "display_name": "Python 3 (ipykernel)",
   "language": "python",
   "name": "python3"
  },
  "language_info": {
   "codemirror_mode": {
    "name": "ipython",
    "version": 3
   },
   "file_extension": ".py",
   "mimetype": "text/x-python",
   "name": "python",
   "nbconvert_exporter": "python",
   "pygments_lexer": "ipython3",
   "version": "3.10.6"
  },
  "orig_nbformat": 4,
  "vscode": {
   "interpreter": {
    "hash": "31f2aee4e71d21fbe5cf8b01ff0e069b9275f58929596ceb00d14d90e3e16cd6"
   }
  }
 },
 "nbformat": 4,
 "nbformat_minor": 2
}
