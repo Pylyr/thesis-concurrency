{
 "cells": [
  {
   "cell_type": "code",
   "execution_count": 1,
   "metadata": {},
   "outputs": [
    {
     "data": {
      "application/javascript": "\n            setTimeout(function() {\n                var nbb_cell_id = 1;\n                var nbb_unformatted_code = \"from classes import *\\nfrom utils import *\\nimport math\\n\\nfrom typing import List, Set, Tuple, Any, Dict, DefaultDict, Optional\\nfrom collections import defaultdict\\nimport linearize_io_helper as io_helper\\n\\n%load_ext nb_black\\n%load_ext autoreload\\n%autoreload 2\";\n                var nbb_formatted_code = \"from classes import *\\nfrom utils import *\\nimport math\\n\\nfrom typing import List, Set, Tuple, Any, Dict, DefaultDict, Optional\\nfrom collections import defaultdict\\nimport linearize_io_helper as io_helper\\n\\n%load_ext nb_black\\n%load_ext autoreload\\n%autoreload 2\";\n                var nbb_cells = Jupyter.notebook.get_cells();\n                for (var i = 0; i < nbb_cells.length; ++i) {\n                    if (nbb_cells[i].input_prompt_number == nbb_cell_id) {\n                        if (nbb_cells[i].get_text() == nbb_unformatted_code) {\n                             nbb_cells[i].set_text(nbb_formatted_code);\n                        }\n                        break;\n                    }\n                }\n            }, 500);\n            ",
      "text/plain": [
       "<IPython.core.display.Javascript object>"
      ]
     },
     "metadata": {},
     "output_type": "display_data"
    }
   ],
   "source": [
    "from classes import *\n",
    "from utils import *\n",
    "import math\n",
    "\n",
    "from typing import List, Set, Tuple, Any, Dict, DefaultDict, Optional\n",
    "from collections import defaultdict\n",
    "import linearize_io_helper as io_helper\n",
    "\n",
    "%load_ext nb_black\n",
    "%load_ext autoreload\n",
    "%autoreload 2"
   ]
  },
  {
   "cell_type": "code",
   "execution_count": 2,
   "metadata": {},
   "outputs": [
    {
     "data": {
      "application/javascript": "\n            setTimeout(function() {\n                var nbb_cell_id = 2;\n                var nbb_unformatted_code = \"# make the font of the plots bigger\\nplt.rcParams.update({'font.size': 14})\";\n                var nbb_formatted_code = \"# make the font of the plots bigger\\nplt.rcParams.update({\\\"font.size\\\": 14})\";\n                var nbb_cells = Jupyter.notebook.get_cells();\n                for (var i = 0; i < nbb_cells.length; ++i) {\n                    if (nbb_cells[i].input_prompt_number == nbb_cell_id) {\n                        if (nbb_cells[i].get_text() == nbb_unformatted_code) {\n                             nbb_cells[i].set_text(nbb_formatted_code);\n                        }\n                        break;\n                    }\n                }\n            }, 500);\n            ",
      "text/plain": [
       "<IPython.core.display.Javascript object>"
      ]
     },
     "metadata": {},
     "output_type": "display_data"
    }
   ],
   "source": [
    "# make the font of the plots bigger\n",
    "plt.rcParams.update({'font.size': 14})"
   ]
  },
  {
   "cell_type": "code",
   "execution_count": 18,
   "metadata": {},
   "outputs": [
    {
     "data": {
      "application/javascript": "\n            setTimeout(function() {\n                var nbb_cell_id = 18;\n                var nbb_unformatted_code = \"def linearize_io(spec: List[Call], verbose=False):\\n    sort_by_var: DefaultDict[int, List[Call]] = defaultdict(list)\\n    false_cases: List[CallCAS] = []\\n    true_cases: List[CallCAS] = []\\n\\n    io_helper.populate_call_bins(spec, sort_by_var, true_cases, false_cases)\\n\\n    writes = io_helper.basic_io_checks(sort_by_var)\\n    if writes is None:\\n        return False\\n\\n    if not io_helper.basic_true_cas_checks(true_cases):\\n        return False\\n\\n    io_helper.topological_true_cas_sort(true_cases)\\n\\n    true_cas_var_groups: List[List[int]] = []\\n    for true_cas in true_cases:\\n        for group in true_cas_var_groups:\\n            if true_cas.compare == group[-1]:\\n                group.append(true_cas.swap)\\n                break\\n        else:\\n            true_cas_var_groups.append([true_cas.compare, true_cas.swap])\\n\\n    true_cas_call_groups: List[List[Call]] = []\\n    for group in true_cas_var_groups:\\n        all_group_ops: List[Call] = []\\n        for var in group:\\n            all_group_ops.extend(sort_by_var[var])\\n        all_group_ops = list(dict.fromkeys(all_group_ops))\\n        true_cas_call_groups.append(all_group_ops)\\n\\n    # intra-group check\\n    for group_i in range(len(true_cas_var_groups)):\\n        intra_group_bins = defaultdict(list)\\n        io_helper.populate_call_bins(true_cas_call_groups[group_i], intra_group_bins, [], [])\\n        intra_group_intervals = io_helper.make_intervals(intra_group_bins)\\n        order = true_cas_var_groups[group_i]\\n        if io_helper.true_cas_intra_group_check(intra_group_intervals, order) is not True:\\n            return False\\n\\n    # inter-group check\\n    for var_group in true_cas_var_groups:\\n        var = var_group[0]\\n        for other_var in var_group[1:]:\\n            sort_by_var[var].extend(sort_by_var[other_var])\\n            del sort_by_var[other_var]\\n\\n    intervals: Dict[int, I] = io_helper.make_intervals(sort_by_var)\\n\\n    if not io_helper.io_check(intervals):\\n        return False\\n\\n    blocks = io_helper.make_blocks(intervals)\\n\\n    false_cas_var_resolver: Dict[CallCAS, Set[int]] = {}\\n    false_cases.sort(key=lambda x: x.end)\\n    for false_cas in false_cases:\\n        available_writes: List[int] = []\\n        block_i = 0\\n\\n        while block_i < len(blocks):\\n            block = blocks[block_i]\\n\\n            if min((min(c.end for c in sort_by_var[var]) for var in block)) < false_cas.start:\\n                available_writes.clear()\\n\\n            writes_in_block = {var for var in block if writes[var].start < false_cas.end}\\n            # assert len(writes_in_block) == len(block)\\n\\n            available_writes.extend(writes_in_block)\\n\\n            if len(writes_in_block) == 0:\\n                break\\n\\n            line = 0\\n            for var in writes_in_block:\\n                interval = intervals[var]\\n                if interval.reversed:\\n                    line = max(line, interval.start)\\n                else:\\n                    line = max(line, interval.end)\\n\\n            if false_cas.end > line:\\n                block_i += 1\\n            else:\\n                break\\n\\n        # if the false cas is fully contained in a forward interval then the only available write is of that interval\\n        for var in available_writes.copy():\\n            interval = intervals[var]\\n            if interval.reversed:\\n                continue\\n            if I(false_cas.start, false_cas.end).isContainedIn(interval):\\n                available_writes = [var]\\n                break\\n\\n        false_cas_var_resolver[false_cas] = set(available_writes)\\n\\n    for false_cas in false_cases:\\n        false_cas_var_resolver[false_cas].discard(false_cas.compare)\\n\\n    visited: Dict[int, I] = {}\\n    for false_cas in false_cases:\\n        if false_cas.compare not in visited and false_cas.compare in writes:\\n            if false_cas.start > writes[false_cas.compare].end:\\n                visited[false_cas.compare] = I(false_cas.end, math.inf)\\n\\n    for false_cas in false_cases:\\n        for var in false_cas_var_resolver[false_cas].copy():\\n            if var in visited:\\n                if I(false_cas.start, false_cas.end).isContainedIn(visited[var]):\\n                    false_cas_var_resolver[false_cas].remove(var)\\n\\n    locked_mem: Dict[int, I] = {}\\n    for false_cas in false_cases:\\n        if len(false_cas_var_resolver[false_cas]) == 1:\\n            v = next(iter(false_cas_var_resolver[false_cas]))\\n            i1, i2 = min(c.end for c in sort_by_var[v]), false_cas.start\\n            rev = i1 > i2\\n            if rev:\\n                i1, i2 = i2, i1\\n            if v in locked_mem:\\n                locked_mem[v] = I(min(locked_mem[v].start, i1), max(locked_mem[v].end, i2), rev)\\n            else:\\n                locked_mem[v] = I(i1, i2, rev)\\n\\n    if verbose:\\n        print(blocks)\\n        print({f\\\"{k} ({round(k.start, 2)} - {round(k.end,2)})\\\": v for k, v in false_cas_var_resolver.items()})\\n        print(locked_mem)\\n\\n    if not io_helper.io_check(locked_mem):\\n        return False\\n\\n    for false_cas in false_cases:\\n        if len(false_cas_var_resolver[false_cas]) == 0:\\n            return False\\n\\n    return True\";\n                var nbb_formatted_code = \"def linearize_io(spec: List[Call], verbose=False):\\n    sort_by_var: DefaultDict[int, List[Call]] = defaultdict(list)\\n    false_cases: List[CallCAS] = []\\n    true_cases: List[CallCAS] = []\\n\\n    io_helper.populate_call_bins(spec, sort_by_var, true_cases, false_cases)\\n\\n    writes = io_helper.basic_io_checks(sort_by_var)\\n    if writes is None:\\n        return False\\n\\n    if not io_helper.basic_true_cas_checks(true_cases):\\n        return False\\n\\n    io_helper.topological_true_cas_sort(true_cases)\\n\\n    true_cas_var_groups: List[List[int]] = []\\n    for true_cas in true_cases:\\n        for group in true_cas_var_groups:\\n            if true_cas.compare == group[-1]:\\n                group.append(true_cas.swap)\\n                break\\n        else:\\n            true_cas_var_groups.append([true_cas.compare, true_cas.swap])\\n\\n    true_cas_call_groups: List[List[Call]] = []\\n    for group in true_cas_var_groups:\\n        all_group_ops: List[Call] = []\\n        for var in group:\\n            all_group_ops.extend(sort_by_var[var])\\n        all_group_ops = list(dict.fromkeys(all_group_ops))\\n        true_cas_call_groups.append(all_group_ops)\\n\\n    # intra-group check\\n    for group_i in range(len(true_cas_var_groups)):\\n        intra_group_bins = defaultdict(list)\\n        io_helper.populate_call_bins(\\n            true_cas_call_groups[group_i], intra_group_bins, [], []\\n        )\\n        intra_group_intervals = io_helper.make_intervals(intra_group_bins)\\n        order = true_cas_var_groups[group_i]\\n        if (\\n            io_helper.true_cas_intra_group_check(intra_group_intervals, order)\\n            is not True\\n        ):\\n            return False\\n\\n    # inter-group check\\n    for var_group in true_cas_var_groups:\\n        var = var_group[0]\\n        for other_var in var_group[1:]:\\n            sort_by_var[var].extend(sort_by_var[other_var])\\n            del sort_by_var[other_var]\\n\\n    intervals: Dict[int, I] = io_helper.make_intervals(sort_by_var)\\n\\n    if not io_helper.io_check(intervals):\\n        return False\\n\\n    blocks = io_helper.make_blocks(intervals)\\n\\n    false_cas_var_resolver: Dict[CallCAS, Set[int]] = {}\\n    false_cases.sort(key=lambda x: x.end)\\n    for false_cas in false_cases:\\n        available_writes: List[int] = []\\n        block_i = 0\\n\\n        while block_i < len(blocks):\\n            block = blocks[block_i]\\n\\n            if (\\n                min((min(c.end for c in sort_by_var[var]) for var in block))\\n                < false_cas.start\\n            ):\\n                available_writes.clear()\\n\\n            writes_in_block = {\\n                var for var in block if writes[var].start < false_cas.end\\n            }\\n            # assert len(writes_in_block) == len(block)\\n\\n            available_writes.extend(writes_in_block)\\n\\n            if len(writes_in_block) == 0:\\n                break\\n\\n            line = 0\\n            for var in writes_in_block:\\n                interval = intervals[var]\\n                if interval.reversed:\\n                    line = max(line, interval.start)\\n                else:\\n                    line = max(line, interval.end)\\n\\n            if false_cas.end > line:\\n                block_i += 1\\n            else:\\n                break\\n\\n        # if the false cas is fully contained in a forward interval then the only available write is of that interval\\n        for var in available_writes.copy():\\n            interval = intervals[var]\\n            if interval.reversed:\\n                continue\\n            if I(false_cas.start, false_cas.end).isContainedIn(interval):\\n                available_writes = [var]\\n                break\\n\\n        false_cas_var_resolver[false_cas] = set(available_writes)\\n\\n    for false_cas in false_cases:\\n        false_cas_var_resolver[false_cas].discard(false_cas.compare)\\n\\n    visited: Dict[int, I] = {}\\n    for false_cas in false_cases:\\n        if false_cas.compare not in visited and false_cas.compare in writes:\\n            if false_cas.start > writes[false_cas.compare].end:\\n                visited[false_cas.compare] = I(false_cas.end, math.inf)\\n\\n    for false_cas in false_cases:\\n        for var in false_cas_var_resolver[false_cas].copy():\\n            if var in visited:\\n                if I(false_cas.start, false_cas.end).isContainedIn(visited[var]):\\n                    false_cas_var_resolver[false_cas].remove(var)\\n\\n    locked_mem: Dict[int, I] = {}\\n    for false_cas in false_cases:\\n        if len(false_cas_var_resolver[false_cas]) == 1:\\n            v = next(iter(false_cas_var_resolver[false_cas]))\\n            i1, i2 = min(c.end for c in sort_by_var[v]), false_cas.start\\n            rev = i1 > i2\\n            if rev:\\n                i1, i2 = i2, i1\\n            if v in locked_mem:\\n                locked_mem[v] = I(\\n                    min(locked_mem[v].start, i1), max(locked_mem[v].end, i2), rev\\n                )\\n            else:\\n                locked_mem[v] = I(i1, i2, rev)\\n\\n    if verbose:\\n        print(blocks)\\n        print(\\n            {\\n                f\\\"{k} ({round(k.start, 2)} - {round(k.end,2)})\\\": v\\n                for k, v in false_cas_var_resolver.items()\\n            }\\n        )\\n        print(locked_mem)\\n\\n    if not io_helper.io_check(locked_mem):\\n        return False\\n\\n    for false_cas in false_cases:\\n        if len(false_cas_var_resolver[false_cas]) == 0:\\n            return False\\n\\n    return True\";\n                var nbb_cells = Jupyter.notebook.get_cells();\n                for (var i = 0; i < nbb_cells.length; ++i) {\n                    if (nbb_cells[i].input_prompt_number == nbb_cell_id) {\n                        if (nbb_cells[i].get_text() == nbb_unformatted_code) {\n                             nbb_cells[i].set_text(nbb_formatted_code);\n                        }\n                        break;\n                    }\n                }\n            }, 500);\n            ",
      "text/plain": [
       "<IPython.core.display.Javascript object>"
      ]
     },
     "metadata": {},
     "output_type": "display_data"
    }
   ],
   "source": [
    "def linearize_io(spec: List[Call], verbose=False):\n",
    "    sort_by_var: DefaultDict[int, List[Call]] = defaultdict(list)\n",
    "    false_cases: List[CallCAS] = []\n",
    "    true_cases: List[CallCAS] = []\n",
    "\n",
    "    io_helper.populate_call_bins(spec, sort_by_var, true_cases, false_cases)\n",
    "\n",
    "    writes = io_helper.basic_io_checks(sort_by_var)\n",
    "    if writes is None:\n",
    "        return False\n",
    "\n",
    "    if not io_helper.basic_true_cas_checks(true_cases):\n",
    "        return False\n",
    "\n",
    "    io_helper.topological_true_cas_sort(true_cases)\n",
    "\n",
    "    true_cas_var_groups: List[List[int]] = []\n",
    "    for true_cas in true_cases:\n",
    "        for group in true_cas_var_groups:\n",
    "            if true_cas.compare == group[-1]:\n",
    "                group.append(true_cas.swap)\n",
    "                break\n",
    "        else:\n",
    "            true_cas_var_groups.append([true_cas.compare, true_cas.swap])\n",
    "\n",
    "    true_cas_call_groups: List[List[Call]] = []\n",
    "    for group in true_cas_var_groups:\n",
    "        all_group_ops: List[Call] = []\n",
    "        for var in group:\n",
    "            all_group_ops.extend(sort_by_var[var])\n",
    "        all_group_ops = list(dict.fromkeys(all_group_ops))\n",
    "        true_cas_call_groups.append(all_group_ops)\n",
    "\n",
    "    # intra-group check\n",
    "    for group_i in range(len(true_cas_var_groups)):\n",
    "        intra_group_bins = defaultdict(list)\n",
    "        io_helper.populate_call_bins(true_cas_call_groups[group_i], intra_group_bins, [], [])\n",
    "        intra_group_intervals = io_helper.make_intervals(intra_group_bins)\n",
    "        order = true_cas_var_groups[group_i]\n",
    "        if io_helper.true_cas_intra_group_check(intra_group_intervals, order) is not True:\n",
    "            return False\n",
    "\n",
    "    # inter-group check\n",
    "    for var_group in true_cas_var_groups:\n",
    "        var = var_group[0]\n",
    "        for other_var in var_group[1:]:\n",
    "            sort_by_var[var].extend(sort_by_var[other_var])\n",
    "            del sort_by_var[other_var]\n",
    "\n",
    "    intervals: Dict[int, I] = io_helper.make_intervals(sort_by_var)\n",
    "\n",
    "    if not io_helper.io_check(intervals):\n",
    "        return False\n",
    "\n",
    "    blocks = io_helper.make_blocks(intervals)\n",
    "\n",
    "    false_cas_var_resolver: Dict[CallCAS, Set[int]] = {}\n",
    "    false_cases.sort(key=lambda x: x.end)\n",
    "    for false_cas in false_cases:\n",
    "        available_writes: List[int] = []\n",
    "        block_i = 0\n",
    "\n",
    "        while block_i < len(blocks):\n",
    "            block = blocks[block_i]\n",
    "\n",
    "            if min((min(c.end for c in sort_by_var[var]) for var in block)) < false_cas.start:\n",
    "                available_writes.clear()\n",
    "\n",
    "            writes_in_block = {var for var in block if writes[var].start < false_cas.end}\n",
    "            # assert len(writes_in_block) == len(block)\n",
    "\n",
    "            available_writes.extend(writes_in_block)\n",
    "\n",
    "            if len(writes_in_block) == 0:\n",
    "                break\n",
    "\n",
    "            line = 0\n",
    "            for var in writes_in_block:\n",
    "                interval = intervals[var]\n",
    "                if interval.reversed:\n",
    "                    line = max(line, interval.start)\n",
    "                else:\n",
    "                    line = max(line, interval.end)\n",
    "\n",
    "            if false_cas.end > line:\n",
    "                block_i += 1\n",
    "            else:\n",
    "                break\n",
    "\n",
    "        # if the false cas is fully contained in a forward interval then the only available write is of that interval\n",
    "        for var in available_writes.copy():\n",
    "            interval = intervals[var]\n",
    "            if interval.reversed:\n",
    "                continue\n",
    "            if I(false_cas.start, false_cas.end).isContainedIn(interval):\n",
    "                available_writes = [var]\n",
    "                break\n",
    "\n",
    "        false_cas_var_resolver[false_cas] = set(available_writes)\n",
    "\n",
    "    for false_cas in false_cases:\n",
    "        false_cas_var_resolver[false_cas].discard(false_cas.compare)\n",
    "\n",
    "    visited: Dict[int, I] = {}\n",
    "    for false_cas in false_cases:\n",
    "        if false_cas.compare not in visited and false_cas.compare in writes:\n",
    "            if false_cas.start > writes[false_cas.compare].end:\n",
    "                visited[false_cas.compare] = I(false_cas.end, math.inf)\n",
    "\n",
    "    for false_cas in false_cases:\n",
    "        for var in false_cas_var_resolver[false_cas].copy():\n",
    "            if var in visited:\n",
    "                if I(false_cas.start, false_cas.end).isContainedIn(visited[var]):\n",
    "                    false_cas_var_resolver[false_cas].remove(var)\n",
    "\n",
    "    locked_mem: Dict[int, I] = {}\n",
    "    for false_cas in false_cases:\n",
    "        if len(false_cas_var_resolver[false_cas]) == 1:\n",
    "            v = next(iter(false_cas_var_resolver[false_cas]))\n",
    "            i1, i2 = min(c.end for c in sort_by_var[v]), false_cas.start\n",
    "            rev = i1 > i2\n",
    "            if rev:\n",
    "                i1, i2 = i2, i1\n",
    "            if v in locked_mem:\n",
    "                locked_mem[v] = I(min(locked_mem[v].start, i1), max(locked_mem[v].end, i2), rev)\n",
    "            else:\n",
    "                locked_mem[v] = I(i1, i2, rev)\n",
    "\n",
    "    if verbose:\n",
    "        print(blocks)\n",
    "        print({f\"{k} ({round(k.start, 2)} - {round(k.end,2)})\": v for k, v in false_cas_var_resolver.items()})\n",
    "        print(locked_mem)\n",
    "\n",
    "    if not io_helper.io_check(locked_mem):\n",
    "        return False\n",
    "\n",
    "    for false_cas in false_cases:\n",
    "        if len(false_cas_var_resolver[false_cas]) == 0:\n",
    "            return False\n",
    "\n",
    "    return True\n"
   ]
  },
  {
   "cell_type": "code",
   "execution_count": 4,
   "metadata": {},
   "outputs": [
    {
     "data": {
      "application/javascript": "\n            setTimeout(function() {\n                var nbb_cell_id = 4;\n                var nbb_unformatted_code = \"# generate_tests(filename=\\\"try3.pkl\\\",\\n#                success_percentage=0.1,\\n#                total = 1_000_000,\\n#                no_threads= 4,\\n#                no_operations=9,\\n#                no_variables=4,\\n#                min_ops=7,\\n#                min_cas=1,\\n#                min_read=1)\";\n                var nbb_formatted_code = \"# generate_tests(filename=\\\"try3.pkl\\\",\\n#                success_percentage=0.1,\\n#                total = 1_000_000,\\n#                no_threads= 4,\\n#                no_operations=9,\\n#                no_variables=4,\\n#                min_ops=7,\\n#                min_cas=1,\\n#                min_read=1)\";\n                var nbb_cells = Jupyter.notebook.get_cells();\n                for (var i = 0; i < nbb_cells.length; ++i) {\n                    if (nbb_cells[i].input_prompt_number == nbb_cell_id) {\n                        if (nbb_cells[i].get_text() == nbb_unformatted_code) {\n                             nbb_cells[i].set_text(nbb_formatted_code);\n                        }\n                        break;\n                    }\n                }\n            }, 500);\n            ",
      "text/plain": [
       "<IPython.core.display.Javascript object>"
      ]
     },
     "metadata": {},
     "output_type": "display_data"
    }
   ],
   "source": [
    "# generate_tests(filename=\"try3.pkl\",\n",
    "#                success_percentage=0.1,\n",
    "#                total = 1_000_000,\n",
    "#                no_threads= 4,\n",
    "#                no_operations=9,\n",
    "#                no_variables=4,\n",
    "#                min_ops=7,\n",
    "#                min_cas=1,\n",
    "#                min_read=1)"
   ]
  },
  {
   "cell_type": "code",
   "execution_count": 15,
   "metadata": {},
   "outputs": [
    {
     "data": {
      "application/javascript": "\n            setTimeout(function() {\n                var nbb_cell_id = 15;\n                var nbb_unformatted_code = \"test = load_test(\\\"readFirst1.pkl\\\")\";\n                var nbb_formatted_code = \"test = load_test(\\\"readFirst1.pkl\\\")\";\n                var nbb_cells = Jupyter.notebook.get_cells();\n                for (var i = 0; i < nbb_cells.length; ++i) {\n                    if (nbb_cells[i].input_prompt_number == nbb_cell_id) {\n                        if (nbb_cells[i].get_text() == nbb_unformatted_code) {\n                             nbb_cells[i].set_text(nbb_formatted_code);\n                        }\n                        break;\n                    }\n                }\n            }, 500);\n            ",
      "text/plain": [
       "<IPython.core.display.Javascript object>"
      ]
     },
     "metadata": {},
     "output_type": "display_data"
    }
   ],
   "source": [
    "test = load_test(\"readFirst1.pkl\")"
   ]
  },
  {
   "cell_type": "code",
   "execution_count": 6,
   "metadata": {},
   "outputs": [
    {
     "data": {
      "application/javascript": "\n            setTimeout(function() {\n                var nbb_cell_id = 6;\n                var nbb_unformatted_code = \"# test = [t for t in test if isIntervals_strictly_ordered(t[0])]\\ntest = [t for t in test if isRead_before_cas(t[0])]\";\n                var nbb_formatted_code = \"# test = [t for t in test if isIntervals_strictly_ordered(t[0])]\\ntest = [t for t in test if isRead_before_cas(t[0])]\";\n                var nbb_cells = Jupyter.notebook.get_cells();\n                for (var i = 0; i < nbb_cells.length; ++i) {\n                    if (nbb_cells[i].input_prompt_number == nbb_cell_id) {\n                        if (nbb_cells[i].get_text() == nbb_unformatted_code) {\n                             nbb_cells[i].set_text(nbb_formatted_code);\n                        }\n                        break;\n                    }\n                }\n            }, 500);\n            ",
      "text/plain": [
       "<IPython.core.display.Javascript object>"
      ]
     },
     "metadata": {},
     "output_type": "display_data"
    }
   ],
   "source": [
    "# test = [t for t in test if isIntervals_strictly_ordered(t[0])]\n",
    "# test = [t for t in test if isRead_before_cas(t[0])]"
   ]
  },
  {
   "cell_type": "code",
   "execution_count": 7,
   "metadata": {},
   "outputs": [
    {
     "data": {
      "application/javascript": "\n            setTimeout(function() {\n                var nbb_cell_id = 7;\n                var nbb_unformatted_code = \"def run_test(testsample: List[Tuple[List[Call], bool]]):\\n    wrong_test_no = []\\n    for i in tqdm.tqdm(range(len(testsample))):\\n        testcase, res = copy.deepcopy(testsample[i])\\n        try:\\n            sol = linearize_io(testcase)\\n            s2 = (sol is True)\\n            if res ^ s2:\\n                wrong_test_no.append(i)\\n\\n        except AssertionError as e:\\n            raise e\\n\\n    print(f\\\"Tests failed: {len(wrong_test_no)}\\\")\\n    if len(wrong_test_no) == 0:\\n        print(\\\"All tests passed\\\")\\n    else:\\n        print(f\\\"First failed: {str(wrong_test_no[:10]).strip('[]')} ...\\\")\\n    \\n    return wrong_test_no\";\n                var nbb_formatted_code = \"def run_test(testsample: List[Tuple[List[Call], bool]]):\\n    wrong_test_no = []\\n    for i in tqdm.tqdm(range(len(testsample))):\\n        testcase, res = copy.deepcopy(testsample[i])\\n        try:\\n            sol = linearize_io(testcase)\\n            s2 = sol is True\\n            if res ^ s2:\\n                wrong_test_no.append(i)\\n\\n        except AssertionError as e:\\n            raise e\\n\\n    print(f\\\"Tests failed: {len(wrong_test_no)}\\\")\\n    if len(wrong_test_no) == 0:\\n        print(\\\"All tests passed\\\")\\n    else:\\n        print(f\\\"First failed: {str(wrong_test_no[:10]).strip('[]')} ...\\\")\\n\\n    return wrong_test_no\";\n                var nbb_cells = Jupyter.notebook.get_cells();\n                for (var i = 0; i < nbb_cells.length; ++i) {\n                    if (nbb_cells[i].input_prompt_number == nbb_cell_id) {\n                        if (nbb_cells[i].get_text() == nbb_unformatted_code) {\n                             nbb_cells[i].set_text(nbb_formatted_code);\n                        }\n                        break;\n                    }\n                }\n            }, 500);\n            ",
      "text/plain": [
       "<IPython.core.display.Javascript object>"
      ]
     },
     "metadata": {},
     "output_type": "display_data"
    }
   ],
   "source": [
    "def run_test(testsample: List[Tuple[List[Call], bool]]):\n",
    "    wrong_test_no = []\n",
    "    for i in tqdm.tqdm(range(len(testsample))):\n",
    "        testcase, res = copy.deepcopy(testsample[i])\n",
    "        try:\n",
    "            sol = linearize_io(testcase)\n",
    "            s2 = (sol is True)\n",
    "            if res ^ s2:\n",
    "                wrong_test_no.append(i)\n",
    "\n",
    "        except AssertionError as e:\n",
    "            raise e\n",
    "\n",
    "    print(f\"Tests failed: {len(wrong_test_no)}\")\n",
    "    if len(wrong_test_no) == 0:\n",
    "        print(\"All tests passed\")\n",
    "    else:\n",
    "        print(f\"First failed: {str(wrong_test_no[:10]).strip('[]')} ...\")\n",
    "    \n",
    "    return wrong_test_no"
   ]
  },
  {
   "cell_type": "code",
   "execution_count": 16,
   "metadata": {},
   "outputs": [
    {
     "name": "stderr",
     "output_type": "stream",
     "text": [
      "100%|██████████| 84449/84449 [00:11<00:00, 7157.45it/s]"
     ]
    },
    {
     "name": "stdout",
     "output_type": "stream",
     "text": [
      "Tests failed: 2\n",
      "First failed: 27078, 60450 ...\n"
     ]
    },
    {
     "name": "stderr",
     "output_type": "stream",
     "text": [
      "\n"
     ]
    },
    {
     "data": {
      "application/javascript": "\n            setTimeout(function() {\n                var nbb_cell_id = 16;\n                var nbb_unformatted_code = \"wrong_test_no = run_test(test)\";\n                var nbb_formatted_code = \"wrong_test_no = run_test(test)\";\n                var nbb_cells = Jupyter.notebook.get_cells();\n                for (var i = 0; i < nbb_cells.length; ++i) {\n                    if (nbb_cells[i].input_prompt_number == nbb_cell_id) {\n                        if (nbb_cells[i].get_text() == nbb_unformatted_code) {\n                             nbb_cells[i].set_text(nbb_formatted_code);\n                        }\n                        break;\n                    }\n                }\n            }, 500);\n            ",
      "text/plain": [
       "<IPython.core.display.Javascript object>"
      ]
     },
     "metadata": {},
     "output_type": "display_data"
    }
   ],
   "source": [
    "wrong_test_no = run_test(test)"
   ]
  },
  {
   "cell_type": "code",
   "execution_count": null,
   "metadata": {},
   "outputs": [],
   "source": [
    "# total = 0\n",
    "# count = 0\n",
    "# no = []\n",
    "# for failed_test in wrong_test_no:\n",
    "#     total += 1\n",
    "#     spec, res = test[failed_test]\n",
    "#     sort_by_var = defaultdict(list)\n",
    "#     io_helper.populate_call_bins(spec, sort_by_var, [], [])\n",
    "#     blocks = io_helper.make_blocks(io_helper.make_intervals(sort_by_var))\n",
    "#     # if it contains a block with two elements\n",
    "#     if all(len(block) in (1, 3) for block in blocks) and any(len(block) == 3 for block in blocks):\n",
    "#         count += 1\n",
    "#         no.append(failed_test)\n",
    "\n",
    "# print(count/total)\n",
    "# critical_cases = [757, 1644, 2091, 2596, 2767, 4460, 5759, 7172, 7964, 10536]"
   ]
  },
  {
   "cell_type": "code",
   "execution_count": 17,
   "metadata": {},
   "outputs": [
    {
     "name": "stdout",
     "output_type": "stream",
     "text": [
      "Testcase 27078 is True\n",
      "[[2], [3, 1]]\n",
      "{'!2 (16.19 - 17.21)': {3}, '!3 (26.68 - 30.13)': {1}}\n",
      "{3: 13.229560735040208 - 16.191264359066594, 1: 11.5372168281693 - 26.675999436549688}\n",
      "False\n"
     ]
    },
    {
     "data": {
      "image/png": "[encoded data removed]",
      "text/plain": [
       "<Figure size 1600x1000 with 1 Axes>"
      ]
     },
     "metadata": {},
     "output_type": "display_data"
    },
    {
     "data": {
      "application/javascript": "\n            setTimeout(function() {\n                var nbb_cell_id = 17;\n                var nbb_unformatted_code = \"i = 27078\\ntestcase, res = copy.deepcopy(test[i])\\nprint(f\\\"Testcase {i} is {res}\\\")\\nprint(linearize_io(testcase, verbose=True))\\n# sol = linearize_generic(testcase, StateIO())\\n# visualize_history(testcase)\\nvisualize_history(testcase)\";\n                var nbb_formatted_code = \"i = 27078\\ntestcase, res = copy.deepcopy(test[i])\\nprint(f\\\"Testcase {i} is {res}\\\")\\nprint(linearize_io(testcase, verbose=True))\\n# sol = linearize_generic(testcase, StateIO())\\n# visualize_history(testcase)\\nvisualize_history(testcase)\";\n                var nbb_cells = Jupyter.notebook.get_cells();\n                for (var i = 0; i < nbb_cells.length; ++i) {\n                    if (nbb_cells[i].input_prompt_number == nbb_cell_id) {\n                        if (nbb_cells[i].get_text() == nbb_unformatted_code) {\n                             nbb_cells[i].set_text(nbb_formatted_code);\n                        }\n                        break;\n                    }\n                }\n            }, 500);\n            ",
      "text/plain": [
       "<IPython.core.display.Javascript object>"
      ]
     },
     "metadata": {},
     "output_type": "display_data"
    }
   ],
   "source": [
    "i = 27078\n",
    "testcase, res = copy.deepcopy(test[i])\n",
    "print(f\"Testcase {i} is {res}\")\n",
    "print(linearize_io(testcase, verbose=True))\n",
    "# sol = linearize_generic(testcase, StateIO())\n",
    "# visualize_history(testcase)\n",
    "visualize_history(testcase)"
   ]
  },
  {
   "cell_type": "code",
   "execution_count": null,
   "metadata": {},
   "outputs": [],
   "source": [
    "testcase, res = copy.deepcopy(test[i])\n",
    "print(f\"Testcase {i} is {res}\")\n",
    "visualize_history(testcase)"
   ]
  },
  {
   "cell_type": "code",
   "execution_count": null,
   "metadata": {},
   "outputs": [],
   "source": [
    "for wrong_test in wrong_test_no:\n",
    "    testcase, res = copy.deepcopy(test[wrong_test])\n",
    "    print(f\"Testcase {wrong_test} is {res}\")\n",
    "    print(linearize_io(testcase, verbose=True))\n",
    "    visualize_history(testcase)"
   ]
  },
  {
   "cell_type": "code",
   "execution_count": null,
   "metadata": {},
   "outputs": [],
   "source": []
  }
 ],
 "metadata": {
  "kernelspec": {
   "display_name": "Python 3 (ipykernel)",
   "language": "python",
   "name": "python3"
  },
  "language_info": {
   "codemirror_mode": {
    "name": "ipython",
    "version": 3
   },
   "file_extension": ".py",
   "mimetype": "text/x-python",
   "name": "python",
   "nbconvert_exporter": "python",
   "pygments_lexer": "ipython3",
   "version": "3.10.6"
  },
  "orig_nbformat": 4,
  "vscode": {
   "interpreter": {
    "hash": "31f2aee4e71d21fbe5cf8b01ff0e069b9275f58929596ceb00d14d90e3e16cd6"
   }
  }
 },
 "nbformat": 4,
 "nbformat_minor": 2
}
